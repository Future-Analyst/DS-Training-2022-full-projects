{
 "cells": [
  {
   "cell_type": "code",
   "execution_count": 1,
   "id": "6248e7b5",
   "metadata": {},
   "outputs": [],
   "source": [
    "import numpy as np \n",
    "import matplotlib.pyplot as plt"
   ]
  },
  {
   "cell_type": "code",
   "execution_count": 2,
   "id": "0783efeb",
   "metadata": {},
   "outputs": [],
   "source": [
    "x=  np.random.randint(-20,30,15)"
   ]
  },
  {
   "cell_type": "code",
   "execution_count": 3,
   "id": "0fc4cf74",
   "metadata": {},
   "outputs": [
    {
     "data": {
      "text/plain": [
       "array([-15,   9,  27,   9,  21,  27,  -7, -17,  -3,  19, -10,   4,   1,\n",
       "        29,  12])"
      ]
     },
     "execution_count": 3,
     "metadata": {},
     "output_type": "execute_result"
    }
   ],
   "source": [
    "x"
   ]
  },
  {
   "cell_type": "code",
   "execution_count": 4,
   "id": "9bae6b66",
   "metadata": {},
   "outputs": [
    {
     "ename": "AttributeError",
     "evalue": "'numpy.ndarray' object has no attribute 'abs'",
     "output_type": "error",
     "traceback": [
      "\u001b[0;31m---------------------------------------------------------------------------\u001b[0m",
      "\u001b[0;31mAttributeError\u001b[0m                            Traceback (most recent call last)",
      "\u001b[0;32m/var/folders/m9/0f_cr7wx14jdvvbw63n8384m0000gq/T/ipykernel_16897/487354447.py\u001b[0m in \u001b[0;36m<module>\u001b[0;34m\u001b[0m\n\u001b[0;32m----> 1\u001b[0;31m \u001b[0mx1\u001b[0m\u001b[0;34m=\u001b[0m \u001b[0mx\u001b[0m\u001b[0;34m.\u001b[0m\u001b[0mabs\u001b[0m\u001b[0;34m(\u001b[0m\u001b[0;34m)\u001b[0m\u001b[0;34m\u001b[0m\u001b[0;34m\u001b[0m\u001b[0m\n\u001b[0m",
      "\u001b[0;31mAttributeError\u001b[0m: 'numpy.ndarray' object has no attribute 'abs'"
     ]
    }
   ],
   "source": [
    "x1= x.abs()"
   ]
  },
  {
   "cell_type": "code",
   "execution_count": 5,
   "id": "28fc6229",
   "metadata": {},
   "outputs": [],
   "source": [
    "x1=np.abs(x)"
   ]
  },
  {
   "cell_type": "code",
   "execution_count": 6,
   "id": "bd493664",
   "metadata": {},
   "outputs": [
    {
     "data": {
      "text/plain": [
       "array([15,  9, 27,  9, 21, 27,  7, 17,  3, 19, 10,  4,  1, 29, 12])"
      ]
     },
     "execution_count": 6,
     "metadata": {},
     "output_type": "execute_result"
    }
   ],
   "source": [
    "x1"
   ]
  },
  {
   "cell_type": "code",
   "execution_count": 7,
   "id": "1ba91df2",
   "metadata": {},
   "outputs": [
    {
     "data": {
      "text/plain": [
       "array([-15,   9,  27,   9,  21,  27,  -7, -17,  -3,  19, -10,   4,   1,\n",
       "        29,  12])"
      ]
     },
     "execution_count": 7,
     "metadata": {},
     "output_type": "execute_result"
    }
   ],
   "source": [
    "x"
   ]
  },
  {
   "cell_type": "code",
   "execution_count": 8,
   "id": "20638ee2",
   "metadata": {},
   "outputs": [
    {
     "data": {
      "text/plain": [
       "array([15,  9, 27,  9, 21, 27,  7, 17,  3, 19, 10,  4,  1, 29, 12])"
      ]
     },
     "execution_count": 8,
     "metadata": {},
     "output_type": "execute_result"
    }
   ],
   "source": [
    "np.absolute(x)"
   ]
  },
  {
   "cell_type": "markdown",
   "id": "137c7907",
   "metadata": {},
   "source": [
    "## Aggregate functions and statistics"
   ]
  },
  {
   "cell_type": "code",
   "execution_count": 9,
   "id": "c9a4e83a",
   "metadata": {},
   "outputs": [
    {
     "data": {
      "text/plain": [
       "210"
      ]
     },
     "execution_count": 9,
     "metadata": {},
     "output_type": "execute_result"
    }
   ],
   "source": [
    "x1.sum()"
   ]
  },
  {
   "cell_type": "code",
   "execution_count": 10,
   "id": "aa75e0e3",
   "metadata": {},
   "outputs": [
    {
     "data": {
      "text/plain": [
       "array([15,  9, 27,  9, 21, 27,  7, 17,  3, 19, 10,  4,  1, 29, 12])"
      ]
     },
     "execution_count": 10,
     "metadata": {},
     "output_type": "execute_result"
    }
   ],
   "source": [
    "x1"
   ]
  },
  {
   "cell_type": "code",
   "execution_count": 11,
   "id": "4c69de42",
   "metadata": {},
   "outputs": [
    {
     "data": {
      "text/plain": [
       "14.0"
      ]
     },
     "execution_count": 11,
     "metadata": {},
     "output_type": "execute_result"
    }
   ],
   "source": [
    "x1.mean()"
   ]
  },
  {
   "cell_type": "code",
   "execution_count": 12,
   "id": "91b71afc",
   "metadata": {},
   "outputs": [
    {
     "data": {
      "text/plain": [
       "77.06666666666666"
      ]
     },
     "execution_count": 12,
     "metadata": {},
     "output_type": "execute_result"
    }
   ],
   "source": [
    "x1.var()"
   ]
  },
  {
   "cell_type": "code",
   "execution_count": 13,
   "id": "848d67b2",
   "metadata": {},
   "outputs": [
    {
     "data": {
      "text/plain": [
       "8.778762251403478"
      ]
     },
     "execution_count": 13,
     "metadata": {},
     "output_type": "execute_result"
    }
   ],
   "source": [
    "x1.std()"
   ]
  },
  {
   "cell_type": "code",
   "execution_count": 14,
   "id": "c799b064",
   "metadata": {},
   "outputs": [
    {
     "data": {
      "text/plain": [
       "29"
      ]
     },
     "execution_count": 14,
     "metadata": {},
     "output_type": "execute_result"
    }
   ],
   "source": [
    "x1.max()"
   ]
  },
  {
   "cell_type": "code",
   "execution_count": 15,
   "id": "be9e1ca6",
   "metadata": {},
   "outputs": [
    {
     "data": {
      "text/plain": [
       "1"
      ]
     },
     "execution_count": 15,
     "metadata": {},
     "output_type": "execute_result"
    }
   ],
   "source": [
    "x1.min()"
   ]
  },
  {
   "cell_type": "code",
   "execution_count": 18,
   "id": "9907c8e6",
   "metadata": {},
   "outputs": [
    {
     "data": {
      "text/plain": [
       "1"
      ]
     },
     "execution_count": 18,
     "metadata": {},
     "output_type": "execute_result"
    }
   ],
   "source": [
    "np.min(x1)"
   ]
  },
  {
   "cell_type": "code",
   "execution_count": 16,
   "id": "33e0ec4a",
   "metadata": {},
   "outputs": [
    {
     "ename": "AttributeError",
     "evalue": "'numpy.ndarray' object has no attribute 'median'",
     "output_type": "error",
     "traceback": [
      "\u001b[0;31m---------------------------------------------------------------------------\u001b[0m",
      "\u001b[0;31mAttributeError\u001b[0m                            Traceback (most recent call last)",
      "\u001b[0;32m/var/folders/m9/0f_cr7wx14jdvvbw63n8384m0000gq/T/ipykernel_16897/642266493.py\u001b[0m in \u001b[0;36m<module>\u001b[0;34m\u001b[0m\n\u001b[0;32m----> 1\u001b[0;31m \u001b[0mx1\u001b[0m\u001b[0;34m.\u001b[0m\u001b[0mmedian\u001b[0m\u001b[0;34m(\u001b[0m\u001b[0;34m)\u001b[0m\u001b[0;34m\u001b[0m\u001b[0;34m\u001b[0m\u001b[0m\n\u001b[0m",
      "\u001b[0;31mAttributeError\u001b[0m: 'numpy.ndarray' object has no attribute 'median'"
     ]
    }
   ],
   "source": [
    "x1.median()"
   ]
  },
  {
   "cell_type": "code",
   "execution_count": 17,
   "id": "842ae0b8",
   "metadata": {},
   "outputs": [
    {
     "data": {
      "text/plain": [
       "12.0"
      ]
     },
     "execution_count": 17,
     "metadata": {},
     "output_type": "execute_result"
    }
   ],
   "source": [
    "np.median(x1)"
   ]
  },
  {
   "cell_type": "code",
   "execution_count": 19,
   "id": "697ec4dc",
   "metadata": {},
   "outputs": [
    {
     "data": {
      "text/plain": [
       "12"
      ]
     },
     "execution_count": 19,
     "metadata": {},
     "output_type": "execute_result"
    }
   ],
   "source": [
    "x1.argmin()"
   ]
  },
  {
   "cell_type": "code",
   "execution_count": 20,
   "id": "7a95dd2f",
   "metadata": {},
   "outputs": [
    {
     "data": {
      "text/plain": [
       "13"
      ]
     },
     "execution_count": 20,
     "metadata": {},
     "output_type": "execute_result"
    }
   ],
   "source": [
    "x1.argmax()"
   ]
  },
  {
   "cell_type": "code",
   "execution_count": 21,
   "id": "94823918",
   "metadata": {},
   "outputs": [
    {
     "data": {
      "text/plain": [
       "array([15,  9, 27,  9, 21, 27,  7, 17,  3, 19, 10,  4,  1, 29, 12])"
      ]
     },
     "execution_count": 21,
     "metadata": {},
     "output_type": "execute_result"
    }
   ],
   "source": [
    "x1"
   ]
  },
  {
   "cell_type": "markdown",
   "id": "67d90229",
   "metadata": {},
   "source": [
    "argmax and argmin returns the index of the maximum and minimumvalues respectively"
   ]
  },
  {
   "cell_type": "code",
   "execution_count": 27,
   "id": "7b4c623c",
   "metadata": {},
   "outputs": [],
   "source": [
    "scores=np.random.randint(0,100,(3,5))\n",
    "# 3. studs and 5. course"
   ]
  },
  {
   "cell_type": "code",
   "execution_count": 28,
   "id": "65b984a4",
   "metadata": {},
   "outputs": [
    {
     "data": {
      "text/plain": [
       "array([[57, 23, 74, 21, 78],\n",
       "       [95, 79, 40, 42, 75],\n",
       "       [74, 42, 40, 74,  4]])"
      ]
     },
     "execution_count": 28,
     "metadata": {},
     "output_type": "execute_result"
    }
   ],
   "source": [
    "scores"
   ]
  },
  {
   "cell_type": "code",
   "execution_count": 29,
   "id": "8238a8d7",
   "metadata": {},
   "outputs": [
    {
     "data": {
      "text/plain": [
       "818"
      ]
     },
     "execution_count": 29,
     "metadata": {},
     "output_type": "execute_result"
    }
   ],
   "source": [
    "scores.sum()"
   ]
  },
  {
   "cell_type": "code",
   "execution_count": 30,
   "id": "fbbe4185",
   "metadata": {},
   "outputs": [
    {
     "data": {
      "text/plain": [
       "54.53333333333333"
      ]
     },
     "execution_count": 30,
     "metadata": {},
     "output_type": "execute_result"
    }
   ],
   "source": [
    "scores.mean()"
   ]
  },
  {
   "cell_type": "code",
   "execution_count": 31,
   "id": "ffed3da9",
   "metadata": {},
   "outputs": [
    {
     "name": "stdout",
     "output_type": "stream",
     "text": [
      "50.6\n",
      "66.2\n",
      "46.8\n"
     ]
    }
   ],
   "source": [
    "for row in scores:\n",
    "    print(row.mean())"
   ]
  },
  {
   "cell_type": "markdown",
   "id": "9682c330",
   "metadata": {},
   "source": [
    "## Axis"
   ]
  },
  {
   "cell_type": "code",
   "execution_count": 32,
   "id": "cf6b6b8a",
   "metadata": {},
   "outputs": [
    {
     "data": {
      "text/plain": [
       "array([50.6, 66.2, 46.8])"
      ]
     },
     "execution_count": 32,
     "metadata": {},
     "output_type": "execute_result"
    }
   ],
   "source": [
    "scores.mean(axis=1)"
   ]
  },
  {
   "cell_type": "code",
   "execution_count": 33,
   "id": "290a8ebb",
   "metadata": {},
   "outputs": [
    {
     "data": {
      "text/plain": [
       "array([75.33333333, 48.        , 51.33333333, 45.66666667, 52.33333333])"
      ]
     },
     "execution_count": 33,
     "metadata": {},
     "output_type": "execute_result"
    }
   ],
   "source": [
    "scores.mean(axis=0)"
   ]
  },
  {
   "cell_type": "markdown",
   "id": "9f433e72",
   "metadata": {},
   "source": [
    "### Students with the highest performance"
   ]
  },
  {
   "cell_type": "code",
   "execution_count": 34,
   "id": "2c1a873c",
   "metadata": {},
   "outputs": [
    {
     "data": {
      "text/plain": [
       "1"
      ]
     },
     "execution_count": 34,
     "metadata": {},
     "output_type": "execute_result"
    }
   ],
   "source": [
    "scores.mean(axis=1).argmax()"
   ]
  },
  {
   "cell_type": "code",
   "execution_count": 36,
   "id": "77a9007d",
   "metadata": {},
   "outputs": [
    {
     "data": {
      "text/plain": [
       "66.2"
      ]
     },
     "execution_count": 36,
     "metadata": {},
     "output_type": "execute_result"
    }
   ],
   "source": [
    "scores.mean(axis=1).max()"
   ]
  },
  {
   "cell_type": "markdown",
   "id": "4ec237c2",
   "metadata": {},
   "source": [
    "### course with the least performance"
   ]
  },
  {
   "cell_type": "code",
   "execution_count": 35,
   "id": "ff46d332",
   "metadata": {},
   "outputs": [
    {
     "data": {
      "text/plain": [
       "3"
      ]
     },
     "execution_count": 35,
     "metadata": {},
     "output_type": "execute_result"
    }
   ],
   "source": [
    "scores.mean(axis=0).argmin()"
   ]
  },
  {
   "cell_type": "code",
   "execution_count": 37,
   "id": "7b1301a1",
   "metadata": {},
   "outputs": [
    {
     "data": {
      "text/plain": [
       "45.666666666666664"
      ]
     },
     "execution_count": 37,
     "metadata": {},
     "output_type": "execute_result"
    }
   ],
   "source": [
    "scores.mean(axis=0).min()"
   ]
  },
  {
   "cell_type": "code",
   "execution_count": 38,
   "id": "d6e13288",
   "metadata": {},
   "outputs": [],
   "source": [
    "# scores.std(axis=1)"
   ]
  },
  {
   "cell_type": "markdown",
   "id": "5ac12a25",
   "metadata": {},
   "source": [
    "## Correlation Coefficient"
   ]
  },
  {
   "cell_type": "code",
   "execution_count": 39,
   "id": "a04beb78",
   "metadata": {},
   "outputs": [],
   "source": [
    "ages = np. random.randint(16,70,30)\n",
    "weights = np. random.randint(40,130,30)"
   ]
  },
  {
   "cell_type": "code",
   "execution_count": 43,
   "id": "a240c720",
   "metadata": {},
   "outputs": [
    {
     "data": {
      "text/plain": [
       "<matplotlib.collections.PathCollection at 0x7fb8082a59a0>"
      ]
     },
     "execution_count": 43,
     "metadata": {},
     "output_type": "execute_result"
    },
    {
     "data": {
      "image/png": "[encoded data removed]",
      "text/plain": [
       "<Figure size 432x288 with 1 Axes>"
      ]
     },
     "metadata": {
      "needs_background": "light"
     },
     "output_type": "display_data"
    }
   ],
   "source": [
    "plt.scatter(ages,weights)"
   ]
  },
  {
   "cell_type": "code",
   "execution_count": 41,
   "id": "16f15f33",
   "metadata": {},
   "outputs": [
    {
     "data": {
      "text/plain": [
       "array([[ 1.       , -0.1209261],\n",
       "       [-0.1209261,  1.       ]])"
      ]
     },
     "execution_count": 41,
     "metadata": {},
     "output_type": "execute_result"
    }
   ],
   "source": [
    "np.corrcoef(ages,weights)"
   ]
  },
  {
   "cell_type": "code",
   "execution_count": 42,
   "id": "8f756fd3",
   "metadata": {},
   "outputs": [
    {
     "data": {
      "text/plain": [
       "-0.12092609553747614"
      ]
     },
     "execution_count": 42,
     "metadata": {},
     "output_type": "execute_result"
    }
   ],
   "source": [
    "np.corrcoef(ages,weights)[0][1]"
   ]
  },
  {
   "cell_type": "code",
   "execution_count": 44,
   "id": "07328518",
   "metadata": {},
   "outputs": [
    {
     "data": {
      "text/plain": [
       "array([-15,   9,  27,   9,  21,  27,  -7, -17,  -3,  19, -10,   4,   1,\n",
       "        29,  12])"
      ]
     },
     "execution_count": 44,
     "metadata": {},
     "output_type": "execute_result"
    }
   ],
   "source": [
    "x"
   ]
  },
  {
   "cell_type": "code",
   "execution_count": 45,
   "id": "5471dbf6",
   "metadata": {},
   "outputs": [
    {
     "data": {
      "text/plain": [
       "array([[87, 49,  6, 40, 66],\n",
       "       [ 3, 73, 66, 59, 60],\n",
       "       [58, 96, 25, 59, 86]])"
      ]
     },
     "execution_count": 45,
     "metadata": {},
     "output_type": "execute_result"
    }
   ],
   "source": [
    "y"
   ]
  },
  {
   "cell_type": "code",
   "execution_count": null,
   "id": "0b3c5a76",
   "metadata": {},
   "outputs": [],
   "source": []
  }
 ],
 "metadata": {
  "kernelspec": {
   "display_name": "Python 3 (ipykernel)",
   "language": "python",
   "name": "python3"
  },
  "language_info": {
   "codemirror_mode": {
    "name": "ipython",
    "version": 3
   },
   "file_extension": ".py",
   "mimetype": "text/x-python",
   "name": "python",
   "nbconvert_exporter": "python",
   "pygments_lexer": "ipython3",
   "version": "3.9.7"
  }
 },
 "nbformat": 4,
 "nbformat_minor": 5
}
