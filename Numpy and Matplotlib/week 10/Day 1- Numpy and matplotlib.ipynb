{
 "cells": [
  {
   "cell_type": "code",
   "execution_count": 1,
   "metadata": {},
   "outputs": [
    {
     "data": {
      "text/plain": [
       "[2, 4, 5, 6, 5, 7, 4, 7]"
      ]
     },
     "execution_count": 1,
     "metadata": {},
     "output_type": "execute_result"
    }
   ],
   "source": [
    "a= [2,4,5,6]\n",
    "b=[5,7,4,7]\n",
    "a+b"
   ]
  },
  {
   "cell_type": "code",
   "execution_count": 2,
   "metadata": {},
   "outputs": [
    {
     "name": "stdout",
     "output_type": "stream",
     "text": [
      "[7, 11, 9, 13]\n"
     ]
    }
   ],
   "source": [
    "added=[]\n",
    "for i in range(4):\n",
    "    added.append(a[i]+b[i])\n",
    "print(added)"
   ]
  },
  {
   "cell_type": "code",
   "execution_count": 5,
   "metadata": {},
   "outputs": [
    {
     "data": {
      "text/plain": [
       "[(2, 5), (4, 7), (5, 4), (6, 7)]"
      ]
     },
     "execution_count": 5,
     "metadata": {},
     "output_type": "execute_result"
    }
   ],
   "source": [
    "list(zip(a,b))"
   ]
  },
  {
   "cell_type": "code",
   "execution_count": 6,
   "metadata": {},
   "outputs": [
    {
     "name": "stdout",
     "output_type": "stream",
     "text": [
      "7\n",
      "11\n",
      "9\n",
      "13\n"
     ]
    }
   ],
   "source": [
    "for x,y in zip(a,b):\n",
    "    print(x+y)"
   ]
  },
  {
   "cell_type": "code",
   "execution_count": 7,
   "metadata": {},
   "outputs": [
    {
     "name": "stdout",
     "output_type": "stream",
     "text": [
      "[7, 11, 9, 13]\n"
     ]
    }
   ],
   "source": [
    "added1=[]\n",
    "for x,y in zip(a,b):\n",
    "    added1.append(x+y)\n",
    "print(added1)"
   ]
  },
  {
   "cell_type": "code",
   "execution_count": 8,
   "metadata": {},
   "outputs": [
    {
     "data": {
      "text/plain": [
       "[7, 11, 9, 13]"
      ]
     },
     "execution_count": 8,
     "metadata": {},
     "output_type": "execute_result"
    }
   ],
   "source": [
    "[x+y for x,y in zip(a,b)]"
   ]
  },
  {
   "cell_type": "markdown",
   "metadata": {},
   "source": [
    "## Numpy"
   ]
  },
  {
   "cell_type": "markdown",
   "metadata": {},
   "source": [
    "### Creatig and operations on numpy arrays"
   ]
  },
  {
   "cell_type": "code",
   "execution_count": 9,
   "metadata": {},
   "outputs": [],
   "source": [
    "import numpy as np"
   ]
  },
  {
   "cell_type": "code",
   "execution_count": 10,
   "metadata": {},
   "outputs": [],
   "source": [
    "a_=np.array(a)"
   ]
  },
  {
   "cell_type": "code",
   "execution_count": 11,
   "metadata": {},
   "outputs": [
    {
     "data": {
      "text/plain": [
       "list"
      ]
     },
     "execution_count": 11,
     "metadata": {},
     "output_type": "execute_result"
    }
   ],
   "source": [
    "type(a)"
   ]
  },
  {
   "cell_type": "code",
   "execution_count": 12,
   "metadata": {},
   "outputs": [
    {
     "data": {
      "text/plain": [
       "numpy.ndarray"
      ]
     },
     "execution_count": 12,
     "metadata": {},
     "output_type": "execute_result"
    }
   ],
   "source": [
    "type(a_)"
   ]
  },
  {
   "cell_type": "code",
   "execution_count": 13,
   "metadata": {},
   "outputs": [
    {
     "data": {
      "text/plain": [
       "array([2, 4, 5, 6])"
      ]
     },
     "execution_count": 13,
     "metadata": {},
     "output_type": "execute_result"
    }
   ],
   "source": [
    "a_"
   ]
  },
  {
   "cell_type": "code",
   "execution_count": 14,
   "metadata": {},
   "outputs": [
    {
     "data": {
      "text/plain": [
       "[2, 4, 5, 6]"
      ]
     },
     "execution_count": 14,
     "metadata": {},
     "output_type": "execute_result"
    }
   ],
   "source": [
    "a"
   ]
  },
  {
   "cell_type": "code",
   "execution_count": 15,
   "metadata": {},
   "outputs": [],
   "source": [
    "b_=np.array(b)"
   ]
  },
  {
   "cell_type": "code",
   "execution_count": 16,
   "metadata": {},
   "outputs": [
    {
     "data": {
      "text/plain": [
       "array([ 7, 11,  9, 13])"
      ]
     },
     "execution_count": 16,
     "metadata": {},
     "output_type": "execute_result"
    }
   ],
   "source": [
    "a_+b_"
   ]
  },
  {
   "cell_type": "code",
   "execution_count": 17,
   "metadata": {},
   "outputs": [
    {
     "data": {
      "text/plain": [
       "array([10, 28, 20, 42])"
      ]
     },
     "execution_count": 17,
     "metadata": {},
     "output_type": "execute_result"
    }
   ],
   "source": [
    "a_*b_"
   ]
  },
  {
   "cell_type": "code",
   "execution_count": 18,
   "metadata": {},
   "outputs": [
    {
     "data": {
      "text/plain": [
       "array([0.4       , 0.57142857, 1.25      , 0.85714286])"
      ]
     },
     "execution_count": 18,
     "metadata": {},
     "output_type": "execute_result"
    }
   ],
   "source": [
    "a_/b_"
   ]
  },
  {
   "cell_type": "code",
   "execution_count": 19,
   "metadata": {},
   "outputs": [],
   "source": [
    "y=np.array([3,6,6])"
   ]
  },
  {
   "cell_type": "code",
   "execution_count": 20,
   "metadata": {},
   "outputs": [
    {
     "ename": "ValueError",
     "evalue": "operands could not be broadcast together with shapes (4,) (3,) ",
     "output_type": "error",
     "traceback": [
      "\u001b[1;31m---------------------------------------------------------------------------\u001b[0m",
      "\u001b[1;31mValueError\u001b[0m                                Traceback (most recent call last)",
      "\u001b[1;32m<ipython-input-20-ab22e1adc801>\u001b[0m in \u001b[0;36m<module>\u001b[1;34m\u001b[0m\n\u001b[1;32m----> 1\u001b[1;33m \u001b[0ma_\u001b[0m\u001b[1;33m+\u001b[0m\u001b[0my\u001b[0m\u001b[1;33m\u001b[0m\u001b[1;33m\u001b[0m\u001b[0m\n\u001b[0m",
      "\u001b[1;31mValueError\u001b[0m: operands could not be broadcast together with shapes (4,) (3,) "
     ]
    }
   ],
   "source": [
    "a_+y"
   ]
  },
  {
   "cell_type": "code",
   "execution_count": 21,
   "metadata": {},
   "outputs": [
    {
     "data": {
      "text/plain": [
       "(4,)"
      ]
     },
     "execution_count": 21,
     "metadata": {},
     "output_type": "execute_result"
    }
   ],
   "source": [
    "a_.shape"
   ]
  },
  {
   "cell_type": "code",
   "execution_count": 23,
   "metadata": {},
   "outputs": [
    {
     "data": {
      "text/plain": [
       "1"
      ]
     },
     "execution_count": 23,
     "metadata": {},
     "output_type": "execute_result"
    }
   ],
   "source": [
    "a_.ndim"
   ]
  },
  {
   "cell_type": "code",
   "execution_count": 24,
   "metadata": {},
   "outputs": [
    {
     "data": {
      "text/plain": [
       "4"
      ]
     },
     "execution_count": 24,
     "metadata": {},
     "output_type": "execute_result"
    }
   ],
   "source": [
    "a_.size"
   ]
  },
  {
   "cell_type": "code",
   "execution_count": 25,
   "metadata": {},
   "outputs": [
    {
     "data": {
      "text/plain": [
       "dtype('int32')"
      ]
     },
     "execution_count": 25,
     "metadata": {},
     "output_type": "execute_result"
    }
   ],
   "source": [
    "a_.dtype"
   ]
  },
  {
   "cell_type": "code",
   "execution_count": 26,
   "metadata": {},
   "outputs": [],
   "source": [
    "x=np.array([[1,2],[4,5],[12,0]])"
   ]
  },
  {
   "cell_type": "code",
   "execution_count": 27,
   "metadata": {},
   "outputs": [
    {
     "data": {
      "text/plain": [
       "array([[ 1,  2],\n",
       "       [ 4,  5],\n",
       "       [12,  0]])"
      ]
     },
     "execution_count": 27,
     "metadata": {},
     "output_type": "execute_result"
    }
   ],
   "source": [
    "x"
   ]
  },
  {
   "cell_type": "code",
   "execution_count": 29,
   "metadata": {},
   "outputs": [
    {
     "data": {
      "text/plain": [
       "(3, 2)"
      ]
     },
     "execution_count": 29,
     "metadata": {},
     "output_type": "execute_result"
    }
   ],
   "source": [
    "x.shape"
   ]
  },
  {
   "cell_type": "code",
   "execution_count": 30,
   "metadata": {},
   "outputs": [
    {
     "data": {
      "text/plain": [
       "6"
      ]
     },
     "execution_count": 30,
     "metadata": {},
     "output_type": "execute_result"
    }
   ],
   "source": [
    "x.size"
   ]
  },
  {
   "cell_type": "code",
   "execution_count": 31,
   "metadata": {},
   "outputs": [
    {
     "data": {
      "text/plain": [
       "dtype('int32')"
      ]
     },
     "execution_count": 31,
     "metadata": {},
     "output_type": "execute_result"
    }
   ],
   "source": [
    "x.dtype"
   ]
  },
  {
   "cell_type": "code",
   "execution_count": 32,
   "metadata": {},
   "outputs": [
    {
     "data": {
      "text/plain": [
       "2"
      ]
     },
     "execution_count": 32,
     "metadata": {},
     "output_type": "execute_result"
    }
   ],
   "source": [
    "x.ndim"
   ]
  },
  {
   "cell_type": "code",
   "execution_count": 33,
   "metadata": {},
   "outputs": [],
   "source": [
    "y=np.array([[2,3],[4,5],[65,2]])"
   ]
  },
  {
   "cell_type": "code",
   "execution_count": 35,
   "metadata": {},
   "outputs": [
    {
     "data": {
      "text/plain": [
       "array([[ 2,  3],\n",
       "       [ 4,  5],\n",
       "       [65,  2]])"
      ]
     },
     "execution_count": 35,
     "metadata": {},
     "output_type": "execute_result"
    }
   ],
   "source": [
    "y"
   ]
  },
  {
   "cell_type": "code",
   "execution_count": 34,
   "metadata": {},
   "outputs": [
    {
     "data": {
      "text/plain": [
       "array([[ 3,  5],\n",
       "       [ 8, 10],\n",
       "       [77,  2]])"
      ]
     },
     "execution_count": 34,
     "metadata": {},
     "output_type": "execute_result"
    }
   ],
   "source": [
    "x+y"
   ]
  },
  {
   "cell_type": "code",
   "execution_count": 36,
   "metadata": {},
   "outputs": [
    {
     "data": {
      "text/plain": [
       "array([[  2,   6],\n",
       "       [ 16,  25],\n",
       "       [780,   0]])"
      ]
     },
     "execution_count": 36,
     "metadata": {},
     "output_type": "execute_result"
    }
   ],
   "source": [
    "x*y"
   ]
  },
  {
   "cell_type": "code",
   "execution_count": 37,
   "metadata": {},
   "outputs": [
    {
     "data": {
      "text/plain": [
       "array([[ 1,  2],\n",
       "       [ 4,  5],\n",
       "       [12,  0]])"
      ]
     },
     "execution_count": 37,
     "metadata": {},
     "output_type": "execute_result"
    }
   ],
   "source": [
    "x"
   ]
  },
  {
   "cell_type": "code",
   "execution_count": 38,
   "metadata": {},
   "outputs": [
    {
     "data": {
      "text/plain": [
       "array([[ 2,  3],\n",
       "       [ 4,  5],\n",
       "       [65,  2]])"
      ]
     },
     "execution_count": 38,
     "metadata": {},
     "output_type": "execute_result"
    }
   ],
   "source": [
    "y"
   ]
  },
  {
   "cell_type": "code",
   "execution_count": 39,
   "metadata": {},
   "outputs": [],
   "source": [
    "c=np.array([12,12.9,13,12.0])"
   ]
  },
  {
   "cell_type": "code",
   "execution_count": 40,
   "metadata": {},
   "outputs": [
    {
     "data": {
      "text/plain": [
       "dtype('float64')"
      ]
     },
     "execution_count": 40,
     "metadata": {},
     "output_type": "execute_result"
    }
   ],
   "source": [
    "c.dtype"
   ]
  },
  {
   "cell_type": "code",
   "execution_count": 41,
   "metadata": {},
   "outputs": [
    {
     "data": {
      "text/plain": [
       "array([12. , 12.9, 13. , 12. ])"
      ]
     },
     "execution_count": 41,
     "metadata": {},
     "output_type": "execute_result"
    }
   ],
   "source": [
    "c"
   ]
  },
  {
   "cell_type": "code",
   "execution_count": 42,
   "metadata": {},
   "outputs": [
    {
     "data": {
      "text/plain": [
       "array(['34', '9.8', '45'], dtype='<U32')"
      ]
     },
     "execution_count": 42,
     "metadata": {},
     "output_type": "execute_result"
    }
   ],
   "source": [
    "np.array([34,9.8,\"45\"])"
   ]
  },
  {
   "cell_type": "markdown",
   "metadata": {},
   "source": [
    "## Array methods"
   ]
  },
  {
   "cell_type": "code",
   "execution_count": 43,
   "metadata": {},
   "outputs": [
    {
     "data": {
      "text/plain": [
       "array([[0., 0., 0., 0.],\n",
       "       [0., 0., 0., 0.],\n",
       "       [0., 0., 0., 0.]])"
      ]
     },
     "execution_count": 43,
     "metadata": {},
     "output_type": "execute_result"
    }
   ],
   "source": [
    "np.zeros((3,4))"
   ]
  },
  {
   "cell_type": "code",
   "execution_count": 44,
   "metadata": {},
   "outputs": [
    {
     "data": {
      "text/plain": [
       "array([0., 0., 0., 0.])"
      ]
     },
     "execution_count": 44,
     "metadata": {},
     "output_type": "execute_result"
    }
   ],
   "source": [
    "np.zeros(4)"
   ]
  },
  {
   "cell_type": "code",
   "execution_count": 45,
   "metadata": {},
   "outputs": [
    {
     "data": {
      "text/plain": [
       "array([[1., 1.],\n",
       "       [1., 1.]])"
      ]
     },
     "execution_count": 45,
     "metadata": {},
     "output_type": "execute_result"
    }
   ],
   "source": [
    "np.ones((2,2))"
   ]
  },
  {
   "cell_type": "code",
   "execution_count": 46,
   "metadata": {},
   "outputs": [
    {
     "data": {
      "text/plain": [
       "array([[1., 0., 0., 0.],\n",
       "       [0., 1., 0., 0.],\n",
       "       [0., 0., 1., 0.],\n",
       "       [0., 0., 0., 1.]])"
      ]
     },
     "execution_count": 46,
     "metadata": {},
     "output_type": "execute_result"
    }
   ],
   "source": [
    "np.identity(4)"
   ]
  },
  {
   "cell_type": "code",
   "execution_count": 47,
   "metadata": {},
   "outputs": [
    {
     "data": {
      "text/plain": [
       "array([[1., 0., 0., 0.],\n",
       "       [0., 1., 0., 0.],\n",
       "       [0., 0., 1., 0.],\n",
       "       [0., 0., 0., 1.]])"
      ]
     },
     "execution_count": 47,
     "metadata": {},
     "output_type": "execute_result"
    }
   ],
   "source": [
    "np.eye(4)"
   ]
  },
  {
   "cell_type": "code",
   "execution_count": 49,
   "metadata": {},
   "outputs": [
    {
     "data": {
      "text/plain": [
       "array([[1., 0., 0., 0., 0., 0.],\n",
       "       [0., 1., 0., 0., 0., 0.],\n",
       "       [0., 0., 1., 0., 0., 0.]])"
      ]
     },
     "execution_count": 49,
     "metadata": {},
     "output_type": "execute_result"
    }
   ],
   "source": [
    "np.eye(3,6)"
   ]
  },
  {
   "cell_type": "code",
   "execution_count": 51,
   "metadata": {},
   "outputs": [],
   "source": [
    "q=np.linspace(10,40)"
   ]
  },
  {
   "cell_type": "code",
   "execution_count": 52,
   "metadata": {},
   "outputs": [
    {
     "data": {
      "text/plain": [
       "(50,)"
      ]
     },
     "execution_count": 52,
     "metadata": {},
     "output_type": "execute_result"
    }
   ],
   "source": [
    "q.shape"
   ]
  },
  {
   "cell_type": "code",
   "execution_count": 53,
   "metadata": {},
   "outputs": [
    {
     "data": {
      "text/plain": [
       "array([10.        , 10.6122449 , 11.2244898 , 11.83673469, 12.44897959,\n",
       "       13.06122449, 13.67346939, 14.28571429, 14.89795918, 15.51020408,\n",
       "       16.12244898, 16.73469388, 17.34693878, 17.95918367, 18.57142857,\n",
       "       19.18367347, 19.79591837, 20.40816327, 21.02040816, 21.63265306,\n",
       "       22.24489796, 22.85714286, 23.46938776, 24.08163265, 24.69387755,\n",
       "       25.30612245, 25.91836735, 26.53061224, 27.14285714, 27.75510204,\n",
       "       28.36734694, 28.97959184, 29.59183673, 30.20408163, 30.81632653,\n",
       "       31.42857143, 32.04081633, 32.65306122, 33.26530612, 33.87755102,\n",
       "       34.48979592, 35.10204082, 35.71428571, 36.32653061, 36.93877551,\n",
       "       37.55102041, 38.16326531, 38.7755102 , 39.3877551 , 40.        ])"
      ]
     },
     "execution_count": 53,
     "metadata": {},
     "output_type": "execute_result"
    }
   ],
   "source": [
    "q"
   ]
  },
  {
   "cell_type": "code",
   "execution_count": 54,
   "metadata": {},
   "outputs": [
    {
     "data": {
      "text/plain": [
       "0.6122448979591837"
      ]
     },
     "execution_count": 54,
     "metadata": {},
     "output_type": "execute_result"
    }
   ],
   "source": [
    "30/49"
   ]
  },
  {
   "cell_type": "code",
   "execution_count": 55,
   "metadata": {},
   "outputs": [],
   "source": [
    "q=np.linspace(10,40,100)"
   ]
  },
  {
   "cell_type": "code",
   "execution_count": 56,
   "metadata": {},
   "outputs": [
    {
     "data": {
      "text/plain": [
       "(100,)"
      ]
     },
     "execution_count": 56,
     "metadata": {},
     "output_type": "execute_result"
    }
   ],
   "source": [
    "q.shape"
   ]
  },
  {
   "cell_type": "code",
   "execution_count": 57,
   "metadata": {},
   "outputs": [
    {
     "data": {
      "text/plain": [
       "array([10.        , 10.3030303 , 10.60606061, 10.90909091, 11.21212121,\n",
       "       11.51515152, 11.81818182, 12.12121212, 12.42424242, 12.72727273,\n",
       "       13.03030303, 13.33333333, 13.63636364, 13.93939394, 14.24242424,\n",
       "       14.54545455, 14.84848485, 15.15151515, 15.45454545, 15.75757576,\n",
       "       16.06060606, 16.36363636, 16.66666667, 16.96969697, 17.27272727,\n",
       "       17.57575758, 17.87878788, 18.18181818, 18.48484848, 18.78787879,\n",
       "       19.09090909, 19.39393939, 19.6969697 , 20.        , 20.3030303 ,\n",
       "       20.60606061, 20.90909091, 21.21212121, 21.51515152, 21.81818182,\n",
       "       22.12121212, 22.42424242, 22.72727273, 23.03030303, 23.33333333,\n",
       "       23.63636364, 23.93939394, 24.24242424, 24.54545455, 24.84848485,\n",
       "       25.15151515, 25.45454545, 25.75757576, 26.06060606, 26.36363636,\n",
       "       26.66666667, 26.96969697, 27.27272727, 27.57575758, 27.87878788,\n",
       "       28.18181818, 28.48484848, 28.78787879, 29.09090909, 29.39393939,\n",
       "       29.6969697 , 30.        , 30.3030303 , 30.60606061, 30.90909091,\n",
       "       31.21212121, 31.51515152, 31.81818182, 32.12121212, 32.42424242,\n",
       "       32.72727273, 33.03030303, 33.33333333, 33.63636364, 33.93939394,\n",
       "       34.24242424, 34.54545455, 34.84848485, 35.15151515, 35.45454545,\n",
       "       35.75757576, 36.06060606, 36.36363636, 36.66666667, 36.96969697,\n",
       "       37.27272727, 37.57575758, 37.87878788, 38.18181818, 38.48484848,\n",
       "       38.78787879, 39.09090909, 39.39393939, 39.6969697 , 40.        ])"
      ]
     },
     "execution_count": 57,
     "metadata": {},
     "output_type": "execute_result"
    }
   ],
   "source": [
    "q"
   ]
  },
  {
   "cell_type": "code",
   "execution_count": 58,
   "metadata": {},
   "outputs": [
    {
     "data": {
      "text/plain": [
       "array([32, 26, 20, 26, 57, 51, 30, 48, 44])"
      ]
     },
     "execution_count": 58,
     "metadata": {},
     "output_type": "execute_result"
    }
   ],
   "source": [
    "np.random.randint(20,60,9)"
   ]
  },
  {
   "cell_type": "code",
   "execution_count": 59,
   "metadata": {},
   "outputs": [],
   "source": [
    "np.random.seed(10)"
   ]
  },
  {
   "cell_type": "code",
   "execution_count": 60,
   "metadata": {},
   "outputs": [],
   "source": [
    "ages=np.random.randint(16,70,4)"
   ]
  },
  {
   "cell_type": "code",
   "execution_count": 61,
   "metadata": {},
   "outputs": [
    {
     "data": {
      "text/plain": [
       "array([25, 52, 31, 16])"
      ]
     },
     "execution_count": 61,
     "metadata": {},
     "output_type": "execute_result"
    }
   ],
   "source": [
    "ages"
   ]
  },
  {
   "cell_type": "code",
   "execution_count": 62,
   "metadata": {},
   "outputs": [],
   "source": [
    "weights=np.random.randint(40,120,4)"
   ]
  },
  {
   "cell_type": "code",
   "execution_count": 63,
   "metadata": {},
   "outputs": [
    {
     "data": {
      "text/plain": [
       "array([ 68,  69,  48, 113])"
      ]
     },
     "execution_count": 63,
     "metadata": {},
     "output_type": "execute_result"
    }
   ],
   "source": [
    "weights"
   ]
  },
  {
   "cell_type": "code",
   "execution_count": 64,
   "metadata": {},
   "outputs": [],
   "source": [
    "names=[\"Paul\",\"Godwin\",\"Elija\",\"Sophia\"]"
   ]
  },
  {
   "cell_type": "markdown",
   "metadata": {},
   "source": [
    "## Matplotlib"
   ]
  },
  {
   "cell_type": "code",
   "execution_count": 66,
   "metadata": {},
   "outputs": [],
   "source": [
    "from matplotlib import pyplot as plt"
   ]
  },
  {
   "cell_type": "code",
   "execution_count": 67,
   "metadata": {},
   "outputs": [
    {
     "data": {
      "text/plain": [
       "<BarContainer object of 4 artists>"
      ]
     },
     "execution_count": 67,
     "metadata": {},
     "output_type": "execute_result"
    },
    {
     "data": {
      "image/png": "[encoded data removed]",
      "text/plain": [
       "<Figure size 432x288 with 1 Axes>"
      ]
     },
     "metadata": {
      "needs_background": "light"
     },
     "output_type": "display_data"
    }
   ],
   "source": [
    "plt.bar(names,ages)"
   ]
  },
  {
   "cell_type": "code",
   "execution_count": 68,
   "metadata": {},
   "outputs": [
    {
     "data": {
      "text/plain": [
       "<BarContainer object of 4 artists>"
      ]
     },
     "execution_count": 68,
     "metadata": {},
     "output_type": "execute_result"
    },
    {
     "data": {
      "image/png": "[encoded data removed]",
      "text/plain": [
       "<Figure size 432x288 with 1 Axes>"
      ]
     },
     "metadata": {
      "needs_background": "light"
     },
     "output_type": "display_data"
    }
   ],
   "source": [
    "plt.bar(names,weights,color=\"red\")"
   ]
  },
  {
   "cell_type": "code",
   "execution_count": 69,
   "metadata": {},
   "outputs": [
    {
     "data": {
      "image/png": "[encoded data removed]",
      "text/plain": [
       "<Figure size 432x288 with 1 Axes>"
      ]
     },
     "metadata": {
      "needs_background": "light"
     },
     "output_type": "display_data"
    }
   ],
   "source": [
    "plt.bar(names,weights,color=\"red\")\n",
    "plt.grid(True)"
   ]
  },
  {
   "cell_type": "code",
   "execution_count": 72,
   "metadata": {},
   "outputs": [
    {
     "data": {
      "text/plain": [
       "([<matplotlib.patches.Wedge at 0x268fb4e7630>,\n",
       "  <matplotlib.patches.Wedge at 0x268fb4e7b00>,\n",
       "  <matplotlib.patches.Wedge at 0x268fb4e7f98>,\n",
       "  <matplotlib.patches.Wedge at 0x268fb584470>],\n",
       " [Text(0.8866310868498695, 0.6510647554824477, ''),\n",
       "  Text(-0.9335086656707731, 0.5818604395536555, ''),\n",
       "  Text(-0.027866062131499014, -1.09964698089036, ''),\n",
       "  Text(1.0108535574083433, -0.43379152305560065, '')])"
      ]
     },
     "execution_count": 72,
     "metadata": {},
     "output_type": "execute_result"
    },
    {
     "data": {
      "image/png": "[encoded data removed]",
      "text/plain": [
       "<Figure size 432x288 with 1 Axes>"
      ]
     },
     "metadata": {},
     "output_type": "display_data"
    }
   ],
   "source": [
    "plt.pie(ages)"
   ]
  },
  {
   "cell_type": "code",
   "execution_count": 74,
   "metadata": {},
   "outputs": [
    {
     "data": {
      "image/png": "[encoded data removed]",
      "text/plain": [
       "<Figure size 432x288 with 1 Axes>"
      ]
     },
     "metadata": {},
     "output_type": "display_data"
    }
   ],
   "source": [
    "plt.pie(ages,labels=names);"
   ]
  },
  {
   "cell_type": "code",
   "execution_count": 83,
   "metadata": {},
   "outputs": [
    {
     "data": {
      "image/png": "[encoded data removed]",
      "text/plain": [
       "<Figure size 432x288 with 1 Axes>"
      ]
     },
     "metadata": {},
     "output_type": "display_data"
    }
   ],
   "source": [
    "plt.pie(ages,labels=names,autopct=\"%.1f%%\");"
   ]
  },
  {
   "cell_type": "code",
   "execution_count": 90,
   "metadata": {},
   "outputs": [
    {
     "data": {
      "image/png": "[encoded data removed]",
      "text/plain": [
       "<Figure size 432x288 with 1 Axes>"
      ]
     },
     "metadata": {},
     "output_type": "display_data"
    }
   ],
   "source": [
    "plt.pie(ages,labels=names,\n",
    "        autopct=\"%.1f%%\",explode=(0,0,1,0));"
   ]
  },
  {
   "cell_type": "code",
   "execution_count": 91,
   "metadata": {},
   "outputs": [],
   "source": [
    "x=np.linspace(-10,10,20)\n",
    "sine=np.sin(x) ## universal function :: ufunc"
   ]
  },
  {
   "cell_type": "code",
   "execution_count": 92,
   "metadata": {},
   "outputs": [
    {
     "data": {
      "text/plain": [
       "array([-10.        ,  -8.94736842,  -7.89473684,  -6.84210526,\n",
       "        -5.78947368,  -4.73684211,  -3.68421053,  -2.63157895,\n",
       "        -1.57894737,  -0.52631579,   0.52631579,   1.57894737,\n",
       "         2.63157895,   3.68421053,   4.73684211,   5.78947368,\n",
       "         6.84210526,   7.89473684,   8.94736842,  10.        ])"
      ]
     },
     "execution_count": 92,
     "metadata": {},
     "output_type": "execute_result"
    }
   ],
   "source": [
    "x"
   ]
  },
  {
   "cell_type": "code",
   "execution_count": 93,
   "metadata": {},
   "outputs": [
    {
     "data": {
      "text/plain": [
       "array([ 0.54402111, -0.4594799 , -0.99916962, -0.53027082,  0.47389753,\n",
       "        0.99970104,  0.5163796 , -0.48818921, -0.99996678, -0.50235115,\n",
       "        0.50235115,  0.99996678,  0.48818921, -0.5163796 , -0.99970104,\n",
       "       -0.47389753,  0.53027082,  0.99916962,  0.4594799 , -0.54402111])"
      ]
     },
     "execution_count": 93,
     "metadata": {},
     "output_type": "execute_result"
    }
   ],
   "source": [
    "sine"
   ]
  },
  {
   "cell_type": "code",
   "execution_count": 94,
   "metadata": {},
   "outputs": [
    {
     "data": {
      "text/plain": [
       "[<matplotlib.lines.Line2D at 0x268fb391f60>]"
      ]
     },
     "execution_count": 94,
     "metadata": {},
     "output_type": "execute_result"
    },
    {
     "data": {
      "image/png": "[encoded data removed]",
      "text/plain": [
       "<Figure size 432x288 with 1 Axes>"
      ]
     },
     "metadata": {
      "needs_background": "light"
     },
     "output_type": "display_data"
    }
   ],
   "source": [
    "plt.plot(x,sine)"
   ]
  },
  {
   "cell_type": "code",
   "execution_count": 96,
   "metadata": {},
   "outputs": [
    {
     "data": {
      "image/png": "[encoded data removed]",
      "text/plain": [
       "<Figure size 432x288 with 1 Axes>"
      ]
     },
     "metadata": {
      "needs_background": "light"
     },
     "output_type": "display_data"
    }
   ],
   "source": [
    "x=np.linspace(-10,10,1000)\n",
    "sine=np.sin(x) \n",
    "plt.plot(x,sine)\n",
    "plt.grid(20)"
   ]
  },
  {
   "cell_type": "code",
   "execution_count": 100,
   "metadata": {},
   "outputs": [
    {
     "data": {
      "application/javascript": [
       "/* Put everything inside the global mpl namespace */\n",
       "window.mpl = {};\n",
       "\n",
       "\n",
       "mpl.get_websocket_type = function() {\n",
       "    if (typeof(WebSocket) !== 'undefined') {\n",
       "        return WebSocket;\n",
       "    } else if (typeof(MozWebSocket) !== 'undefined') {\n",
       "        return MozWebSocket;\n",
       "    } else {\n",
       "        alert('Your browser does not have WebSocket support. ' +\n",
       "              'Please try Chrome, Safari or Firefox ≥ 6. ' +\n",
       "              'Firefox 4 and 5 are also supported but you ' +\n",
       "              'have to enable WebSockets in about:config.');\n",
       "    };\n",
       "}\n",
       "\n",
       "mpl.figure = function(figure_id, websocket, ondownload, parent_element) {\n",
       "    this.id = figure_id;\n",
       "\n",
       "    this.ws = websocket;\n",
       "\n",
       "    this.supports_binary = (this.ws.binaryType != undefined);\n",
       "\n",
       "    if (!this.supports_binary) {\n",
       "        var warnings = document.getElementById(\"mpl-warnings\");\n",
       "        if (warnings) {\n",
       "            warnings.style.display = 'block';\n",
       "            warnings.textContent = (\n",
       "                \"This browser does not support binary websocket messages. \" +\n",
       "                    \"Performance may be slow.\");\n",
       "        }\n",
       "    }\n",
       "\n",
       "    this.imageObj = new Image();\n",
       "\n",
       "    this.context = undefined;\n",
       "    this.message = undefined;\n",
       "    this.canvas = undefined;\n",
       "    this.rubberband_canvas = undefined;\n",
       "    this.rubberband_context = undefined;\n",
       "    this.format_dropdown = undefined;\n",
       "\n",
       "    this.image_mode = 'full';\n",
       "\n",
       "    this.root = $('<div/>');\n",
       "    this._root_extra_style(this.root)\n",
       "    this.root.attr('style', 'display: inline-block');\n",
       "\n",
       "    $(parent_element).append(this.root);\n",
       "\n",
       "    this._init_header(this);\n",
       "    this._init_canvas(this);\n",
       "    this._init_toolbar(this);\n",
       "\n",
       "    var fig = this;\n",
       "\n",
       "    this.waiting = false;\n",
       "\n",
       "    this.ws.onopen =  function () {\n",
       "            fig.send_message(\"supports_binary\", {value: fig.supports_binary});\n",
       "            fig.send_message(\"send_image_mode\", {});\n",
       "            if (mpl.ratio != 1) {\n",
       "                fig.send_message(\"set_dpi_ratio\", {'dpi_ratio': mpl.ratio});\n",
       "            }\n",
       "            fig.send_message(\"refresh\", {});\n",
       "        }\n",
       "\n",
       "    this.imageObj.onload = function() {\n",
       "            if (fig.image_mode == 'full') {\n",
       "                // Full images could contain transparency (where diff images\n",
       "                // almost always do), so we need to clear the canvas so that\n",
       "                // there is no ghosting.\n",
       "                fig.context.clearRect(0, 0, fig.canvas.width, fig.canvas.height);\n",
       "            }\n",
       "            fig.context.drawImage(fig.imageObj, 0, 0);\n",
       "        };\n",
       "\n",
       "    this.imageObj.onunload = function() {\n",
       "        fig.ws.close();\n",
       "    }\n",
       "\n",
       "    this.ws.onmessage = this._make_on_message_function(this);\n",
       "\n",
       "    this.ondownload = ondownload;\n",
       "}\n",
       "\n",
       "mpl.figure.prototype._init_header = function() {\n",
       "    var titlebar = $(\n",
       "        '<div class=\"ui-dialog-titlebar ui-widget-header ui-corner-all ' +\n",
       "        'ui-helper-clearfix\"/>');\n",
       "    var titletext = $(\n",
       "        '<div class=\"ui-dialog-title\" style=\"width: 100%; ' +\n",
       "        'text-align: center; padding: 3px;\"/>');\n",
       "    titlebar.append(titletext)\n",
       "    this.root.append(titlebar);\n",
       "    this.header = titletext[0];\n",
       "}\n",
       "\n",
       "\n",
       "\n",
       "mpl.figure.prototype._canvas_extra_style = function(canvas_div) {\n",
       "\n",
       "}\n",
       "\n",
       "\n",
       "mpl.figure.prototype._root_extra_style = function(canvas_div) {\n",
       "\n",
       "}\n",
       "\n",
       "mpl.figure.prototype._init_canvas = function() {\n",
       "    var fig = this;\n",
       "\n",
       "    var canvas_div = $('<div/>');\n",
       "\n",
       "    canvas_div.attr('style', 'position: relative; clear: both; outline: 0');\n",
       "\n",
       "    function canvas_keyboard_event(event) {\n",
       "        return fig.key_event(event, event['data']);\n",
       "    }\n",
       "\n",
       "    canvas_div.keydown('key_press', canvas_keyboard_event);\n",
       "    canvas_div.keyup('key_release', canvas_keyboard_event);\n",
       "    this.canvas_div = canvas_div\n",
       "    this._canvas_extra_style(canvas_div)\n",
       "    this.root.append(canvas_div);\n",
       "\n",
       "    var canvas = $('<canvas/>');\n",
       "    canvas.addClass('mpl-canvas');\n",
       "    canvas.attr('style', \"left: 0; top: 0; z-index: 0; outline: 0\")\n",
       "\n",
       "    this.canvas = canvas[0];\n",
       "    this.context = canvas[0].getContext(\"2d\");\n",
       "\n",
       "    var backingStore = this.context.backingStorePixelRatio ||\n",
       "\tthis.context.webkitBackingStorePixelRatio ||\n",
       "\tthis.context.mozBackingStorePixelRatio ||\n",
       "\tthis.context.msBackingStorePixelRatio ||\n",
       "\tthis.context.oBackingStorePixelRatio ||\n",
       "\tthis.context.backingStorePixelRatio || 1;\n",
       "\n",
       "    mpl.ratio = (window.devicePixelRatio || 1) / backingStore;\n",
       "\n",
       "    var rubberband = $('<canvas/>');\n",
       "    rubberband.attr('style', \"position: absolute; left: 0; top: 0; z-index: 1;\")\n",
       "\n",
       "    var pass_mouse_events = true;\n",
       "\n",
       "    canvas_div.resizable({\n",
       "        start: function(event, ui) {\n",
       "            pass_mouse_events = false;\n",
       "        },\n",
       "        resize: function(event, ui) {\n",
       "            fig.request_resize(ui.size.width, ui.size.height);\n",
       "        },\n",
       "        stop: function(event, ui) {\n",
       "            pass_mouse_events = true;\n",
       "            fig.request_resize(ui.size.width, ui.size.height);\n",
       "        },\n",
       "    });\n",
       "\n",
       "    function mouse_event_fn(event) {\n",
       "        if (pass_mouse_events)\n",
       "            return fig.mouse_event(event, event['data']);\n",
       "    }\n",
       "\n",
       "    rubberband.mousedown('button_press', mouse_event_fn);\n",
       "    rubberband.mouseup('button_release', mouse_event_fn);\n",
       "    // Throttle sequential mouse events to 1 every 20ms.\n",
       "    rubberband.mousemove('motion_notify', mouse_event_fn);\n",
       "\n",
       "    rubberband.mouseenter('figure_enter', mouse_event_fn);\n",
       "    rubberband.mouseleave('figure_leave', mouse_event_fn);\n",
       "\n",
       "    canvas_div.on(\"wheel\", function (event) {\n",
       "        event = event.originalEvent;\n",
       "        event['data'] = 'scroll'\n",
       "        if (event.deltaY < 0) {\n",
       "            event.step = 1;\n",
       "        } else {\n",
       "            event.step = -1;\n",
       "        }\n",
       "        mouse_event_fn(event);\n",
       "    });\n",
       "\n",
       "    canvas_div.append(canvas);\n",
       "    canvas_div.append(rubberband);\n",
       "\n",
       "    this.rubberband = rubberband;\n",
       "    this.rubberband_canvas = rubberband[0];\n",
       "    this.rubberband_context = rubberband[0].getContext(\"2d\");\n",
       "    this.rubberband_context.strokeStyle = \"#000000\";\n",
       "\n",
       "    this._resize_canvas = function(width, height) {\n",
       "        // Keep the size of the canvas, canvas container, and rubber band\n",
       "        // canvas in synch.\n",
       "        canvas_div.css('width', width)\n",
       "        canvas_div.css('height', height)\n",
       "\n",
       "        canvas.attr('width', width * mpl.ratio);\n",
       "        canvas.attr('height', height * mpl.ratio);\n",
       "        canvas.attr('style', 'width: ' + width + 'px; height: ' + height + 'px;');\n",
       "\n",
       "        rubberband.attr('width', width);\n",
       "        rubberband.attr('height', height);\n",
       "    }\n",
       "\n",
       "    // Set the figure to an initial 600x600px, this will subsequently be updated\n",
       "    // upon first draw.\n",
       "    this._resize_canvas(600, 600);\n",
       "\n",
       "    // Disable right mouse context menu.\n",
       "    $(this.rubberband_canvas).bind(\"contextmenu\",function(e){\n",
       "        return false;\n",
       "    });\n",
       "\n",
       "    function set_focus () {\n",
       "        canvas.focus();\n",
       "        canvas_div.focus();\n",
       "    }\n",
       "\n",
       "    window.setTimeout(set_focus, 100);\n",
       "}\n",
       "\n",
       "mpl.figure.prototype._init_toolbar = function() {\n",
       "    var fig = this;\n",
       "\n",
       "    var nav_element = $('<div/>');\n",
       "    nav_element.attr('style', 'width: 100%');\n",
       "    this.root.append(nav_element);\n",
       "\n",
       "    // Define a callback function for later on.\n",
       "    function toolbar_event(event) {\n",
       "        return fig.toolbar_button_onclick(event['data']);\n",
       "    }\n",
       "    function toolbar_mouse_event(event) {\n",
       "        return fig.toolbar_button_onmouseover(event['data']);\n",
       "    }\n",
       "\n",
       "    for(var toolbar_ind in mpl.toolbar_items) {\n",
       "        var name = mpl.toolbar_items[toolbar_ind][0];\n",
       "        var tooltip = mpl.toolbar_items[toolbar_ind][1];\n",
       "        var image = mpl.toolbar_items[toolbar_ind][2];\n",
       "        var method_name = mpl.toolbar_items[toolbar_ind][3];\n",
       "\n",
       "        if (!name) {\n",
       "            // put a spacer in here.\n",
       "            continue;\n",
       "        }\n",
       "        var button = $('<button/>');\n",
       "        button.addClass('ui-button ui-widget ui-state-default ui-corner-all ' +\n",
       "                        'ui-button-icon-only');\n",
       "        button.attr('role', 'button');\n",
       "        button.attr('aria-disabled', 'false');\n",
       "        button.click(method_name, toolbar_event);\n",
       "        button.mouseover(tooltip, toolbar_mouse_event);\n",
       "\n",
       "        var icon_img = $('<span/>');\n",
       "        icon_img.addClass('ui-button-icon-primary ui-icon');\n",
       "        icon_img.addClass(image);\n",
       "        icon_img.addClass('ui-corner-all');\n",
       "\n",
       "        var tooltip_span = $('<span/>');\n",
       "        tooltip_span.addClass('ui-button-text');\n",
       "        tooltip_span.html(tooltip);\n",
       "\n",
       "        button.append(icon_img);\n",
       "        button.append(tooltip_span);\n",
       "\n",
       "        nav_element.append(button);\n",
       "    }\n",
       "\n",
       "    var fmt_picker_span = $('<span/>');\n",
       "\n",
       "    var fmt_picker = $('<select/>');\n",
       "    fmt_picker.addClass('mpl-toolbar-option ui-widget ui-widget-content');\n",
       "    fmt_picker_span.append(fmt_picker);\n",
       "    nav_element.append(fmt_picker_span);\n",
       "    this.format_dropdown = fmt_picker[0];\n",
       "\n",
       "    for (var ind in mpl.extensions) {\n",
       "        var fmt = mpl.extensions[ind];\n",
       "        var option = $(\n",
       "            '<option/>', {selected: fmt === mpl.default_extension}).html(fmt);\n",
       "        fmt_picker.append(option);\n",
       "    }\n",
       "\n",
       "    // Add hover states to the ui-buttons\n",
       "    $( \".ui-button\" ).hover(\n",
       "        function() { $(this).addClass(\"ui-state-hover\");},\n",
       "        function() { $(this).removeClass(\"ui-state-hover\");}\n",
       "    );\n",
       "\n",
       "    var status_bar = $('<span class=\"mpl-message\"/>');\n",
       "    nav_element.append(status_bar);\n",
       "    this.message = status_bar[0];\n",
       "}\n",
       "\n",
       "mpl.figure.prototype.request_resize = function(x_pixels, y_pixels) {\n",
       "    // Request matplotlib to resize the figure. Matplotlib will then trigger a resize in the client,\n",
       "    // which will in turn request a refresh of the image.\n",
       "    this.send_message('resize', {'width': x_pixels, 'height': y_pixels});\n",
       "}\n",
       "\n",
       "mpl.figure.prototype.send_message = function(type, properties) {\n",
       "    properties['type'] = type;\n",
       "    properties['figure_id'] = this.id;\n",
       "    this.ws.send(JSON.stringify(properties));\n",
       "}\n",
       "\n",
       "mpl.figure.prototype.send_draw_message = function() {\n",
       "    if (!this.waiting) {\n",
       "        this.waiting = true;\n",
       "        this.ws.send(JSON.stringify({type: \"draw\", figure_id: this.id}));\n",
       "    }\n",
       "}\n",
       "\n",
       "\n",
       "mpl.figure.prototype.handle_save = function(fig, msg) {\n",
       "    var format_dropdown = fig.format_dropdown;\n",
       "    var format = format_dropdown.options[format_dropdown.selectedIndex].value;\n",
       "    fig.ondownload(fig, format);\n",
       "}\n",
       "\n",
       "\n",
       "mpl.figure.prototype.handle_resize = function(fig, msg) {\n",
       "    var size = msg['size'];\n",
       "    if (size[0] != fig.canvas.width || size[1] != fig.canvas.height) {\n",
       "        fig._resize_canvas(size[0], size[1]);\n",
       "        fig.send_message(\"refresh\", {});\n",
       "    };\n",
       "}\n",
       "\n",
       "mpl.figure.prototype.handle_rubberband = function(fig, msg) {\n",
       "    var x0 = msg['x0'] / mpl.ratio;\n",
       "    var y0 = (fig.canvas.height - msg['y0']) / mpl.ratio;\n",
       "    var x1 = msg['x1'] / mpl.ratio;\n",
       "    var y1 = (fig.canvas.height - msg['y1']) / mpl.ratio;\n",
       "    x0 = Math.floor(x0) + 0.5;\n",
       "    y0 = Math.floor(y0) + 0.5;\n",
       "    x1 = Math.floor(x1) + 0.5;\n",
       "    y1 = Math.floor(y1) + 0.5;\n",
       "    var min_x = Math.min(x0, x1);\n",
       "    var min_y = Math.min(y0, y1);\n",
       "    var width = Math.abs(x1 - x0);\n",
       "    var height = Math.abs(y1 - y0);\n",
       "\n",
       "    fig.rubberband_context.clearRect(\n",
       "        0, 0, fig.canvas.width, fig.canvas.height);\n",
       "\n",
       "    fig.rubberband_context.strokeRect(min_x, min_y, width, height);\n",
       "}\n",
       "\n",
       "mpl.figure.prototype.handle_figure_label = function(fig, msg) {\n",
       "    // Updates the figure title.\n",
       "    fig.header.textContent = msg['label'];\n",
       "}\n",
       "\n",
       "mpl.figure.prototype.handle_cursor = function(fig, msg) {\n",
       "    var cursor = msg['cursor'];\n",
       "    switch(cursor)\n",
       "    {\n",
       "    case 0:\n",
       "        cursor = 'pointer';\n",
       "        break;\n",
       "    case 1:\n",
       "        cursor = 'default';\n",
       "        break;\n",
       "    case 2:\n",
       "        cursor = 'crosshair';\n",
       "        break;\n",
       "    case 3:\n",
       "        cursor = 'move';\n",
       "        break;\n",
       "    }\n",
       "    fig.rubberband_canvas.style.cursor = cursor;\n",
       "}\n",
       "\n",
       "mpl.figure.prototype.handle_message = function(fig, msg) {\n",
       "    fig.message.textContent = msg['message'];\n",
       "}\n",
       "\n",
       "mpl.figure.prototype.handle_draw = function(fig, msg) {\n",
       "    // Request the server to send over a new figure.\n",
       "    fig.send_draw_message();\n",
       "}\n",
       "\n",
       "mpl.figure.prototype.handle_image_mode = function(fig, msg) {\n",
       "    fig.image_mode = msg['mode'];\n",
       "}\n",
       "\n",
       "mpl.figure.prototype.updated_canvas_event = function() {\n",
       "    // Called whenever the canvas gets updated.\n",
       "    this.send_message(\"ack\", {});\n",
       "}\n",
       "\n",
       "// A function to construct a web socket function for onmessage handling.\n",
       "// Called in the figure constructor.\n",
       "mpl.figure.prototype._make_on_message_function = function(fig) {\n",
       "    return function socket_on_message(evt) {\n",
       "        if (evt.data instanceof Blob) {\n",
       "            /* FIXME: We get \"Resource interpreted as Image but\n",
       "             * transferred with MIME type text/plain:\" errors on\n",
       "             * Chrome.  But how to set the MIME type?  It doesn't seem\n",
       "             * to be part of the websocket stream */\n",
       "            evt.data.type = \"image/png\";\n",
       "\n",
       "            /* Free the memory for the previous frames */\n",
       "            if (fig.imageObj.src) {\n",
       "                (window.URL || window.webkitURL).revokeObjectURL(\n",
       "                    fig.imageObj.src);\n",
       "            }\n",
       "\n",
       "            fig.imageObj.src = (window.URL || window.webkitURL).createObjectURL(\n",
       "                evt.data);\n",
       "            fig.updated_canvas_event();\n",
       "            fig.waiting = false;\n",
       "            return;\n",
       "        }\n",
       "        else if (typeof evt.data === 'string' && evt.data.slice(0, 21) == \"data:image/png;base64\") {\n",
       "            fig.imageObj.src = evt.data;\n",
       "            fig.updated_canvas_event();\n",
       "            fig.waiting = false;\n",
       "            return;\n",
       "        }\n",
       "\n",
       "        var msg = JSON.parse(evt.data);\n",
       "        var msg_type = msg['type'];\n",
       "\n",
       "        // Call the  \"handle_{type}\" callback, which takes\n",
       "        // the figure and JSON message as its only arguments.\n",
       "        try {\n",
       "            var callback = fig[\"handle_\" + msg_type];\n",
       "        } catch (e) {\n",
       "            console.log(\"No handler for the '\" + msg_type + \"' message type: \", msg);\n",
       "            return;\n",
       "        }\n",
       "\n",
       "        if (callback) {\n",
       "            try {\n",
       "                // console.log(\"Handling '\" + msg_type + \"' message: \", msg);\n",
       "                callback(fig, msg);\n",
       "            } catch (e) {\n",
       "                console.log(\"Exception inside the 'handler_\" + msg_type + \"' callback:\", e, e.stack, msg);\n",
       "            }\n",
       "        }\n",
       "    };\n",
       "}\n",
       "\n",
       "// from http://stackoverflow.com/questions/1114465/getting-mouse-location-in-canvas\n",
       "mpl.findpos = function(e) {\n",
       "    //this section is from http://www.quirksmode.org/js/events_properties.html\n",
       "    var targ;\n",
       "    if (!e)\n",
       "        e = window.event;\n",
       "    if (e.target)\n",
       "        targ = e.target;\n",
       "    else if (e.srcElement)\n",
       "        targ = e.srcElement;\n",
       "    if (targ.nodeType == 3) // defeat Safari bug\n",
       "        targ = targ.parentNode;\n",
       "\n",
       "    // jQuery normalizes the pageX and pageY\n",
       "    // pageX,Y are the mouse positions relative to the document\n",
       "    // offset() returns the position of the element relative to the document\n",
       "    var x = e.pageX - $(targ).offset().left;\n",
       "    var y = e.pageY - $(targ).offset().top;\n",
       "\n",
       "    return {\"x\": x, \"y\": y};\n",
       "};\n",
       "\n",
       "/*\n",
       " * return a copy of an object with only non-object keys\n",
       " * we need this to avoid circular references\n",
       " * http://stackoverflow.com/a/24161582/3208463\n",
       " */\n",
       "function simpleKeys (original) {\n",
       "  return Object.keys(original).reduce(function (obj, key) {\n",
       "    if (typeof original[key] !== 'object')\n",
       "        obj[key] = original[key]\n",
       "    return obj;\n",
       "  }, {});\n",
       "}\n",
       "\n",
       "mpl.figure.prototype.mouse_event = function(event, name) {\n",
       "    var canvas_pos = mpl.findpos(event)\n",
       "\n",
       "    if (name === 'button_press')\n",
       "    {\n",
       "        this.canvas.focus();\n",
       "        this.canvas_div.focus();\n",
       "    }\n",
       "\n",
       "    var x = canvas_pos.x * mpl.ratio;\n",
       "    var y = canvas_pos.y * mpl.ratio;\n",
       "\n",
       "    this.send_message(name, {x: x, y: y, button: event.button,\n",
       "                             step: event.step,\n",
       "                             guiEvent: simpleKeys(event)});\n",
       "\n",
       "    /* This prevents the web browser from automatically changing to\n",
       "     * the text insertion cursor when the button is pressed.  We want\n",
       "     * to control all of the cursor setting manually through the\n",
       "     * 'cursor' event from matplotlib */\n",
       "    event.preventDefault();\n",
       "    return false;\n",
       "}\n",
       "\n",
       "mpl.figure.prototype._key_event_extra = function(event, name) {\n",
       "    // Handle any extra behaviour associated with a key event\n",
       "}\n",
       "\n",
       "mpl.figure.prototype.key_event = function(event, name) {\n",
       "\n",
       "    // Prevent repeat events\n",
       "    if (name == 'key_press')\n",
       "    {\n",
       "        if (event.which === this._key)\n",
       "            return;\n",
       "        else\n",
       "            this._key = event.which;\n",
       "    }\n",
       "    if (name == 'key_release')\n",
       "        this._key = null;\n",
       "\n",
       "    var value = '';\n",
       "    if (event.ctrlKey && event.which != 17)\n",
       "        value += \"ctrl+\";\n",
       "    if (event.altKey && event.which != 18)\n",
       "        value += \"alt+\";\n",
       "    if (event.shiftKey && event.which != 16)\n",
       "        value += \"shift+\";\n",
       "\n",
       "    value += 'k';\n",
       "    value += event.which.toString();\n",
       "\n",
       "    this._key_event_extra(event, name);\n",
       "\n",
       "    this.send_message(name, {key: value,\n",
       "                             guiEvent: simpleKeys(event)});\n",
       "    return false;\n",
       "}\n",
       "\n",
       "mpl.figure.prototype.toolbar_button_onclick = function(name) {\n",
       "    if (name == 'download') {\n",
       "        this.handle_save(this, null);\n",
       "    } else {\n",
       "        this.send_message(\"toolbar_button\", {name: name});\n",
       "    }\n",
       "};\n",
       "\n",
       "mpl.figure.prototype.toolbar_button_onmouseover = function(tooltip) {\n",
       "    this.message.textContent = tooltip;\n",
       "};\n",
       "mpl.toolbar_items = [[\"Home\", \"Reset original view\", \"fa fa-home icon-home\", \"home\"], [\"Back\", \"Back to previous view\", \"fa fa-arrow-left icon-arrow-left\", \"back\"], [\"Forward\", \"Forward to next view\", \"fa fa-arrow-right icon-arrow-right\", \"forward\"], [\"\", \"\", \"\", \"\"], [\"Pan\", \"Pan axes with left mouse, zoom with right\", \"fa fa-arrows icon-move\", \"pan\"], [\"Zoom\", \"Zoom to rectangle\", \"fa fa-square-o icon-check-empty\", \"zoom\"], [\"\", \"\", \"\", \"\"], [\"Download\", \"Download plot\", \"fa fa-floppy-o icon-save\", \"download\"]];\n",
       "\n",
       "mpl.extensions = [\"eps\", \"jpeg\", \"pdf\", \"png\", \"ps\", \"raw\", \"svg\", \"tif\"];\n",
       "\n",
       "mpl.default_extension = \"png\";var comm_websocket_adapter = function(comm) {\n",
       "    // Create a \"websocket\"-like object which calls the given IPython comm\n",
       "    // object with the appropriate methods. Currently this is a non binary\n",
       "    // socket, so there is still some room for performance tuning.\n",
       "    var ws = {};\n",
       "\n",
       "    ws.close = function() {\n",
       "        comm.close()\n",
       "    };\n",
       "    ws.send = function(m) {\n",
       "        //console.log('sending', m);\n",
       "        comm.send(m);\n",
       "    };\n",
       "    // Register the callback with on_msg.\n",
       "    comm.on_msg(function(msg) {\n",
       "        //console.log('receiving', msg['content']['data'], msg);\n",
       "        // Pass the mpl event to the overridden (by mpl) onmessage function.\n",
       "        ws.onmessage(msg['content']['data'])\n",
       "    });\n",
       "    return ws;\n",
       "}\n",
       "\n",
       "mpl.mpl_figure_comm = function(comm, msg) {\n",
       "    // This is the function which gets called when the mpl process\n",
       "    // starts-up an IPython Comm through the \"matplotlib\" channel.\n",
       "\n",
       "    var id = msg.content.data.id;\n",
       "    // Get hold of the div created by the display call when the Comm\n",
       "    // socket was opened in Python.\n",
       "    var element = $(\"#\" + id);\n",
       "    var ws_proxy = comm_websocket_adapter(comm)\n",
       "\n",
       "    function ondownload(figure, format) {\n",
       "        window.open(figure.imageObj.src);\n",
       "    }\n",
       "\n",
       "    var fig = new mpl.figure(id, ws_proxy,\n",
       "                           ondownload,\n",
       "                           element.get(0));\n",
       "\n",
       "    // Call onopen now - mpl needs it, as it is assuming we've passed it a real\n",
       "    // web socket which is closed, not our websocket->open comm proxy.\n",
       "    ws_proxy.onopen();\n",
       "\n",
       "    fig.parent_element = element.get(0);\n",
       "    fig.cell_info = mpl.find_output_cell(\"<div id='\" + id + \"'></div>\");\n",
       "    if (!fig.cell_info) {\n",
       "        console.error(\"Failed to find cell for figure\", id, fig);\n",
       "        return;\n",
       "    }\n",
       "\n",
       "    var output_index = fig.cell_info[2]\n",
       "    var cell = fig.cell_info[0];\n",
       "\n",
       "};\n",
       "\n",
       "mpl.figure.prototype.handle_close = function(fig, msg) {\n",
       "    var width = fig.canvas.width/mpl.ratio\n",
       "    fig.root.unbind('remove')\n",
       "\n",
       "    // Update the output cell to use the data from the current canvas.\n",
       "    fig.push_to_output();\n",
       "    var dataURL = fig.canvas.toDataURL();\n",
       "    // Re-enable the keyboard manager in IPython - without this line, in FF,\n",
       "    // the notebook keyboard shortcuts fail.\n",
       "    IPython.keyboard_manager.enable()\n",
       "    $(fig.parent_element).html('<img src=\"' + dataURL + '\" width=\"' + width + '\">');\n",
       "    fig.close_ws(fig, msg);\n",
       "}\n",
       "\n",
       "mpl.figure.prototype.close_ws = function(fig, msg){\n",
       "    fig.send_message('closing', msg);\n",
       "    // fig.ws.close()\n",
       "}\n",
       "\n",
       "mpl.figure.prototype.push_to_output = function(remove_interactive) {\n",
       "    // Turn the data on the canvas into data in the output cell.\n",
       "    var width = this.canvas.width/mpl.ratio\n",
       "    var dataURL = this.canvas.toDataURL();\n",
       "    this.cell_info[1]['text/html'] = '<img src=\"' + dataURL + '\" width=\"' + width + '\">';\n",
       "}\n",
       "\n",
       "mpl.figure.prototype.updated_canvas_event = function() {\n",
       "    // Tell IPython that the notebook contents must change.\n",
       "    IPython.notebook.set_dirty(true);\n",
       "    this.send_message(\"ack\", {});\n",
       "    var fig = this;\n",
       "    // Wait a second, then push the new image to the DOM so\n",
       "    // that it is saved nicely (might be nice to debounce this).\n",
       "    setTimeout(function () { fig.push_to_output() }, 1000);\n",
       "}\n",
       "\n",
       "mpl.figure.prototype._init_toolbar = function() {\n",
       "    var fig = this;\n",
       "\n",
       "    var nav_element = $('<div/>');\n",
       "    nav_element.attr('style', 'width: 100%');\n",
       "    this.root.append(nav_element);\n",
       "\n",
       "    // Define a callback function for later on.\n",
       "    function toolbar_event(event) {\n",
       "        return fig.toolbar_button_onclick(event['data']);\n",
       "    }\n",
       "    function toolbar_mouse_event(event) {\n",
       "        return fig.toolbar_button_onmouseover(event['data']);\n",
       "    }\n",
       "\n",
       "    for(var toolbar_ind in mpl.toolbar_items){\n",
       "        var name = mpl.toolbar_items[toolbar_ind][0];\n",
       "        var tooltip = mpl.toolbar_items[toolbar_ind][1];\n",
       "        var image = mpl.toolbar_items[toolbar_ind][2];\n",
       "        var method_name = mpl.toolbar_items[toolbar_ind][3];\n",
       "\n",
       "        if (!name) { continue; };\n",
       "\n",
       "        var button = $('<button class=\"btn btn-default\" href=\"#\" title=\"' + name + '\"><i class=\"fa ' + image + ' fa-lg\"></i></button>');\n",
       "        button.click(method_name, toolbar_event);\n",
       "        button.mouseover(tooltip, toolbar_mouse_event);\n",
       "        nav_element.append(button);\n",
       "    }\n",
       "\n",
       "    // Add the status bar.\n",
       "    var status_bar = $('<span class=\"mpl-message\" style=\"text-align:right; float: right;\"/>');\n",
       "    nav_element.append(status_bar);\n",
       "    this.message = status_bar[0];\n",
       "\n",
       "    // Add the close button to the window.\n",
       "    var buttongrp = $('<div class=\"btn-group inline pull-right\"></div>');\n",
       "    var button = $('<button class=\"btn btn-mini btn-primary\" href=\"#\" title=\"Stop Interaction\"><i class=\"fa fa-power-off icon-remove icon-large\"></i></button>');\n",
       "    button.click(function (evt) { fig.handle_close(fig, {}); } );\n",
       "    button.mouseover('Stop Interaction', toolbar_mouse_event);\n",
       "    buttongrp.append(button);\n",
       "    var titlebar = this.root.find($('.ui-dialog-titlebar'));\n",
       "    titlebar.prepend(buttongrp);\n",
       "}\n",
       "\n",
       "mpl.figure.prototype._root_extra_style = function(el){\n",
       "    var fig = this\n",
       "    el.on(\"remove\", function(){\n",
       "\tfig.close_ws(fig, {});\n",
       "    });\n",
       "}\n",
       "\n",
       "mpl.figure.prototype._canvas_extra_style = function(el){\n",
       "    // this is important to make the div 'focusable\n",
       "    el.attr('tabindex', 0)\n",
       "    // reach out to IPython and tell the keyboard manager to turn it's self\n",
       "    // off when our div gets focus\n",
       "\n",
       "    // location in version 3\n",
       "    if (IPython.notebook.keyboard_manager) {\n",
       "        IPython.notebook.keyboard_manager.register_events(el);\n",
       "    }\n",
       "    else {\n",
       "        // location in version 2\n",
       "        IPython.keyboard_manager.register_events(el);\n",
       "    }\n",
       "\n",
       "}\n",
       "\n",
       "mpl.figure.prototype._key_event_extra = function(event, name) {\n",
       "    var manager = IPython.notebook.keyboard_manager;\n",
       "    if (!manager)\n",
       "        manager = IPython.keyboard_manager;\n",
       "\n",
       "    // Check for shift+enter\n",
       "    if (event.shiftKey && event.which == 13) {\n",
       "        this.canvas_div.blur();\n",
       "        event.shiftKey = false;\n",
       "        // Send a \"J\" for go to next cell\n",
       "        event.which = 74;\n",
       "        event.keyCode = 74;\n",
       "        manager.command_mode();\n",
       "        manager.handle_keydown(event);\n",
       "    }\n",
       "}\n",
       "\n",
       "mpl.figure.prototype.handle_save = function(fig, msg) {\n",
       "    fig.ondownload(fig, null);\n",
       "}\n",
       "\n",
       "\n",
       "mpl.find_output_cell = function(html_output) {\n",
       "    // Return the cell and output element which can be found *uniquely* in the notebook.\n",
       "    // Note - this is a bit hacky, but it is done because the \"notebook_saving.Notebook\"\n",
       "    // IPython event is triggered only after the cells have been serialised, which for\n",
       "    // our purposes (turning an active figure into a static one), is too late.\n",
       "    var cells = IPython.notebook.get_cells();\n",
       "    var ncells = cells.length;\n",
       "    for (var i=0; i<ncells; i++) {\n",
       "        var cell = cells[i];\n",
       "        if (cell.cell_type === 'code'){\n",
       "            for (var j=0; j<cell.output_area.outputs.length; j++) {\n",
       "                var data = cell.output_area.outputs[j];\n",
       "                if (data.data) {\n",
       "                    // IPython >= 3 moved mimebundle to data attribute of output\n",
       "                    data = data.data;\n",
       "                }\n",
       "                if (data['text/html'] == html_output) {\n",
       "                    return [cell, data, j];\n",
       "                }\n",
       "            }\n",
       "        }\n",
       "    }\n",
       "}\n",
       "\n",
       "// Register the function which deals with the matplotlib target/channel.\n",
       "// The kernel may be null if the page has been refreshed.\n",
       "if (IPython.notebook.kernel != null) {\n",
       "    IPython.notebook.kernel.comm_manager.register_target('matplotlib', mpl.mpl_figure_comm);\n",
       "}\n"
      ],
      "text/plain": [
       "<IPython.core.display.Javascript object>"
      ]
     },
     "metadata": {},
     "output_type": "display_data"
    },
    {
     "data": {
      "text/html": [
       "<img src=\"data:image/png;base64,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\" width=\"640\">"
      ],
      "text/plain": [
       "<IPython.core.display.HTML object>"
      ]
     },
     "metadata": {},
     "output_type": "display_data"
    }
   ],
   "source": [
    "# %matplotlib notebook\n",
    "x=np.linspace(-10,10,1000)\n",
    "sine=np.sin(x) \n",
    "plt.plot(x,sine)\n",
    "plt.grid(20)"
   ]
  },
  {
   "cell_type": "markdown",
   "metadata": {},
   "source": [
    "## Assignment "
   ]
  },
  {
   "cell_type": "markdown",
   "metadata": {},
   "source": [
    "$$ y =tan(x)$$\n",
    "$$ y =cos(x)$$\n",
    "$$ y =2sin(4x)-cos(3x)$$\n",
    "$$ y =\\frac{e^x}{1+e^x}$$"
   ]
  },
  {
   "cell_type": "code",
   "execution_count": null,
   "metadata": {},
   "outputs": [],
   "source": []
  }
 ],
 "metadata": {
  "kernelspec": {
   "display_name": "Python 3 (ipykernel)",
   "language": "python",
   "name": "python3"
  },
  "language_info": {
   "codemirror_mode": {
    "name": "ipython",
    "version": 3
   },
   "file_extension": ".py",
   "mimetype": "text/x-python",
   "name": "python",
   "nbconvert_exporter": "python",
   "pygments_lexer": "ipython3",
   "version": "3.9.12"
  }
 },
 "nbformat": 4,
 "nbformat_minor": 2
}
