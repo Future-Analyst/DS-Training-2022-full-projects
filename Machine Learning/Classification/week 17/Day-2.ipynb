{
 "cells": [
  {
   "cell_type": "code",
   "execution_count": 1,
   "id": "055f35d7-c2e7-454d-a628-b5dcecc7705a",
   "metadata": {},
   "outputs": [],
   "source": [
    "import pandas as pd"
   ]
  },
  {
   "cell_type": "code",
   "execution_count": 3,
   "id": "53aa775f-3a62-49bf-be8e-73e8c3ef0fc2",
   "metadata": {},
   "outputs": [],
   "source": [
    "df=pd.read_csv(\"../../../datasets/customer_churn.csv\")"
   ]
  },
  {
   "cell_type": "code",
   "execution_count": 4,
   "id": "759eec8a-f970-4af5-aaab-b1081e81ba85",
   "metadata": {},
   "outputs": [
    {
     "data": {
      "text/html": [
       "<div>\n",
       "<style scoped>\n",
       "    .dataframe tbody tr th:only-of-type {\n",
       "        vertical-align: middle;\n",
       "    }\n",
       "\n",
       "    .dataframe tbody tr th {\n",
       "        vertical-align: top;\n",
       "    }\n",
       "\n",
       "    .dataframe thead th {\n",
       "        text-align: right;\n",
       "    }\n",
       "</style>\n",
       "<table border=\"1\" class=\"dataframe\">\n",
       "  <thead>\n",
       "    <tr style=\"text-align: right;\">\n",
       "      <th></th>\n",
       "      <th>Names</th>\n",
       "      <th>Age</th>\n",
       "      <th>Total_Purchase</th>\n",
       "      <th>Account_Manager</th>\n",
       "      <th>Years</th>\n",
       "      <th>Num_Sites</th>\n",
       "      <th>Onboard_date</th>\n",
       "      <th>Location</th>\n",
       "      <th>Company</th>\n",
       "      <th>Churn</th>\n",
       "    </tr>\n",
       "  </thead>\n",
       "  <tbody>\n",
       "    <tr>\n",
       "      <th>0</th>\n",
       "      <td>Cameron Williams</td>\n",
       "      <td>42.0</td>\n",
       "      <td>11066.80</td>\n",
       "      <td>0</td>\n",
       "      <td>7.22</td>\n",
       "      <td>8.0</td>\n",
       "      <td>2013-08-30 07:00:40</td>\n",
       "      <td>10265 Elizabeth Mission Barkerburgh, AK 89518</td>\n",
       "      <td>Harvey LLC</td>\n",
       "      <td>1</td>\n",
       "    </tr>\n",
       "    <tr>\n",
       "      <th>1</th>\n",
       "      <td>Kevin Mueller</td>\n",
       "      <td>41.0</td>\n",
       "      <td>11916.22</td>\n",
       "      <td>0</td>\n",
       "      <td>6.50</td>\n",
       "      <td>11.0</td>\n",
       "      <td>2013-08-13 00:38:46</td>\n",
       "      <td>6157 Frank Gardens Suite 019 Carloshaven, RI 1...</td>\n",
       "      <td>Wilson PLC</td>\n",
       "      <td>1</td>\n",
       "    </tr>\n",
       "    <tr>\n",
       "      <th>2</th>\n",
       "      <td>Eric Lozano</td>\n",
       "      <td>38.0</td>\n",
       "      <td>12884.75</td>\n",
       "      <td>0</td>\n",
       "      <td>6.67</td>\n",
       "      <td>12.0</td>\n",
       "      <td>2016-06-29 06:20:07</td>\n",
       "      <td>1331 Keith Court Alyssahaven, DE 90114</td>\n",
       "      <td>Miller, Johnson and Wallace</td>\n",
       "      <td>1</td>\n",
       "    </tr>\n",
       "    <tr>\n",
       "      <th>3</th>\n",
       "      <td>Phillip White</td>\n",
       "      <td>42.0</td>\n",
       "      <td>8010.76</td>\n",
       "      <td>0</td>\n",
       "      <td>6.71</td>\n",
       "      <td>10.0</td>\n",
       "      <td>2014-04-22 12:43:12</td>\n",
       "      <td>13120 Daniel Mount Angelabury, WY 30645-4695</td>\n",
       "      <td>Smith Inc</td>\n",
       "      <td>1</td>\n",
       "    </tr>\n",
       "    <tr>\n",
       "      <th>4</th>\n",
       "      <td>Cynthia Norton</td>\n",
       "      <td>37.0</td>\n",
       "      <td>9191.58</td>\n",
       "      <td>0</td>\n",
       "      <td>5.56</td>\n",
       "      <td>9.0</td>\n",
       "      <td>2016-01-19 15:31:15</td>\n",
       "      <td>765 Tricia Row Karenshire, MH 71730</td>\n",
       "      <td>Love-Jones</td>\n",
       "      <td>1</td>\n",
       "    </tr>\n",
       "  </tbody>\n",
       "</table>\n",
       "</div>"
      ],
      "text/plain": [
       "              Names   Age  Total_Purchase  Account_Manager  Years  Num_Sites  \\\n",
       "0  Cameron Williams  42.0        11066.80                0   7.22        8.0   \n",
       "1     Kevin Mueller  41.0        11916.22                0   6.50       11.0   \n",
       "2       Eric Lozano  38.0        12884.75                0   6.67       12.0   \n",
       "3     Phillip White  42.0         8010.76                0   6.71       10.0   \n",
       "4    Cynthia Norton  37.0         9191.58                0   5.56        9.0   \n",
       "\n",
       "          Onboard_date                                           Location  \\\n",
       "0  2013-08-30 07:00:40      10265 Elizabeth Mission Barkerburgh, AK 89518   \n",
       "1  2013-08-13 00:38:46  6157 Frank Gardens Suite 019 Carloshaven, RI 1...   \n",
       "2  2016-06-29 06:20:07             1331 Keith Court Alyssahaven, DE 90114   \n",
       "3  2014-04-22 12:43:12       13120 Daniel Mount Angelabury, WY 30645-4695   \n",
       "4  2016-01-19 15:31:15                765 Tricia Row Karenshire, MH 71730   \n",
       "\n",
       "                       Company  Churn  \n",
       "0                   Harvey LLC      1  \n",
       "1                   Wilson PLC      1  \n",
       "2  Miller, Johnson and Wallace      1  \n",
       "3                    Smith Inc      1  \n",
       "4                   Love-Jones      1  "
      ]
     },
     "execution_count": 4,
     "metadata": {},
     "output_type": "execute_result"
    }
   ],
   "source": [
    "df.head()"
   ]
  },
  {
   "cell_type": "code",
   "execution_count": 5,
   "id": "6fcd6b55-5a8f-4029-ae60-a1d305ead924",
   "metadata": {},
   "outputs": [
    {
     "name": "stdout",
     "output_type": "stream",
     "text": [
      "<class 'pandas.core.frame.DataFrame'>\n",
      "RangeIndex: 900 entries, 0 to 899\n",
      "Data columns (total 10 columns):\n",
      " #   Column           Non-Null Count  Dtype  \n",
      "---  ------           --------------  -----  \n",
      " 0   Names            900 non-null    object \n",
      " 1   Age              900 non-null    float64\n",
      " 2   Total_Purchase   900 non-null    float64\n",
      " 3   Account_Manager  900 non-null    int64  \n",
      " 4   Years            900 non-null    float64\n",
      " 5   Num_Sites        900 non-null    float64\n",
      " 6   Onboard_date     900 non-null    object \n",
      " 7   Location         900 non-null    object \n",
      " 8   Company          900 non-null    object \n",
      " 9   Churn            900 non-null    int64  \n",
      "dtypes: float64(4), int64(2), object(4)\n",
      "memory usage: 70.4+ KB\n"
     ]
    }
   ],
   "source": [
    "df.info()"
   ]
  },
  {
   "cell_type": "code",
   "execution_count": 6,
   "id": "22df42ae-9298-4e64-b1fb-f52ac9fea9b7",
   "metadata": {},
   "outputs": [
    {
     "data": {
      "text/plain": [
       "Names              0\n",
       "Age                0\n",
       "Total_Purchase     0\n",
       "Account_Manager    0\n",
       "Years              0\n",
       "Num_Sites          0\n",
       "Onboard_date       0\n",
       "Location           0\n",
       "Company            0\n",
       "Churn              0\n",
       "dtype: int64"
      ]
     },
     "execution_count": 6,
     "metadata": {},
     "output_type": "execute_result"
    }
   ],
   "source": [
    "df.isna().sum()"
   ]
  },
  {
   "cell_type": "code",
   "execution_count": 7,
   "id": "712c9db8-b72e-4fa7-907f-147b9071fd9a",
   "metadata": {},
   "outputs": [
    {
     "data": {
      "text/html": [
       "<div>\n",
       "<style scoped>\n",
       "    .dataframe tbody tr th:only-of-type {\n",
       "        vertical-align: middle;\n",
       "    }\n",
       "\n",
       "    .dataframe tbody tr th {\n",
       "        vertical-align: top;\n",
       "    }\n",
       "\n",
       "    .dataframe thead th {\n",
       "        text-align: right;\n",
       "    }\n",
       "</style>\n",
       "<table border=\"1\" class=\"dataframe\">\n",
       "  <thead>\n",
       "    <tr style=\"text-align: right;\">\n",
       "      <th></th>\n",
       "      <th>Names</th>\n",
       "      <th>Age</th>\n",
       "      <th>Total_Purchase</th>\n",
       "      <th>Account_Manager</th>\n",
       "      <th>Years</th>\n",
       "      <th>Num_Sites</th>\n",
       "      <th>Onboard_date</th>\n",
       "      <th>Location</th>\n",
       "      <th>Company</th>\n",
       "      <th>Churn</th>\n",
       "    </tr>\n",
       "  </thead>\n",
       "  <tbody>\n",
       "    <tr>\n",
       "      <th>0</th>\n",
       "      <td>Cameron Williams</td>\n",
       "      <td>42.0</td>\n",
       "      <td>11066.80</td>\n",
       "      <td>0</td>\n",
       "      <td>7.22</td>\n",
       "      <td>8.0</td>\n",
       "      <td>2013-08-30 07:00:40</td>\n",
       "      <td>10265 Elizabeth Mission Barkerburgh, AK 89518</td>\n",
       "      <td>Harvey LLC</td>\n",
       "      <td>1</td>\n",
       "    </tr>\n",
       "    <tr>\n",
       "      <th>1</th>\n",
       "      <td>Kevin Mueller</td>\n",
       "      <td>41.0</td>\n",
       "      <td>11916.22</td>\n",
       "      <td>0</td>\n",
       "      <td>6.50</td>\n",
       "      <td>11.0</td>\n",
       "      <td>2013-08-13 00:38:46</td>\n",
       "      <td>6157 Frank Gardens Suite 019 Carloshaven, RI 1...</td>\n",
       "      <td>Wilson PLC</td>\n",
       "      <td>1</td>\n",
       "    </tr>\n",
       "    <tr>\n",
       "      <th>2</th>\n",
       "      <td>Eric Lozano</td>\n",
       "      <td>38.0</td>\n",
       "      <td>12884.75</td>\n",
       "      <td>0</td>\n",
       "      <td>6.67</td>\n",
       "      <td>12.0</td>\n",
       "      <td>2016-06-29 06:20:07</td>\n",
       "      <td>1331 Keith Court Alyssahaven, DE 90114</td>\n",
       "      <td>Miller, Johnson and Wallace</td>\n",
       "      <td>1</td>\n",
       "    </tr>\n",
       "    <tr>\n",
       "      <th>3</th>\n",
       "      <td>Phillip White</td>\n",
       "      <td>42.0</td>\n",
       "      <td>8010.76</td>\n",
       "      <td>0</td>\n",
       "      <td>6.71</td>\n",
       "      <td>10.0</td>\n",
       "      <td>2014-04-22 12:43:12</td>\n",
       "      <td>13120 Daniel Mount Angelabury, WY 30645-4695</td>\n",
       "      <td>Smith Inc</td>\n",
       "      <td>1</td>\n",
       "    </tr>\n",
       "    <tr>\n",
       "      <th>4</th>\n",
       "      <td>Cynthia Norton</td>\n",
       "      <td>37.0</td>\n",
       "      <td>9191.58</td>\n",
       "      <td>0</td>\n",
       "      <td>5.56</td>\n",
       "      <td>9.0</td>\n",
       "      <td>2016-01-19 15:31:15</td>\n",
       "      <td>765 Tricia Row Karenshire, MH 71730</td>\n",
       "      <td>Love-Jones</td>\n",
       "      <td>1</td>\n",
       "    </tr>\n",
       "  </tbody>\n",
       "</table>\n",
       "</div>"
      ],
      "text/plain": [
       "              Names   Age  Total_Purchase  Account_Manager  Years  Num_Sites  \\\n",
       "0  Cameron Williams  42.0        11066.80                0   7.22        8.0   \n",
       "1     Kevin Mueller  41.0        11916.22                0   6.50       11.0   \n",
       "2       Eric Lozano  38.0        12884.75                0   6.67       12.0   \n",
       "3     Phillip White  42.0         8010.76                0   6.71       10.0   \n",
       "4    Cynthia Norton  37.0         9191.58                0   5.56        9.0   \n",
       "\n",
       "          Onboard_date                                           Location  \\\n",
       "0  2013-08-30 07:00:40      10265 Elizabeth Mission Barkerburgh, AK 89518   \n",
       "1  2013-08-13 00:38:46  6157 Frank Gardens Suite 019 Carloshaven, RI 1...   \n",
       "2  2016-06-29 06:20:07             1331 Keith Court Alyssahaven, DE 90114   \n",
       "3  2014-04-22 12:43:12       13120 Daniel Mount Angelabury, WY 30645-4695   \n",
       "4  2016-01-19 15:31:15                765 Tricia Row Karenshire, MH 71730   \n",
       "\n",
       "                       Company  Churn  \n",
       "0                   Harvey LLC      1  \n",
       "1                   Wilson PLC      1  \n",
       "2  Miller, Johnson and Wallace      1  \n",
       "3                    Smith Inc      1  \n",
       "4                   Love-Jones      1  "
      ]
     },
     "execution_count": 7,
     "metadata": {},
     "output_type": "execute_result"
    }
   ],
   "source": [
    "df.head()"
   ]
  },
  {
   "cell_type": "code",
   "execution_count": 10,
   "id": "de5b15eb-6db4-47a4-9cb8-d705819ad9ed",
   "metadata": {},
   "outputs": [],
   "source": [
    "X,y=df.loc[:,[\"Age\",\"Total_Purchase\",\"Account_Manager\",\"Years\",\"Num_Sites\"]],df.Churn"
   ]
  },
  {
   "cell_type": "code",
   "execution_count": 11,
   "id": "75d4206f-febb-4c81-8947-5e40f19ba76a",
   "metadata": {},
   "outputs": [
    {
     "data": {
      "text/html": [
       "<div>\n",
       "<style scoped>\n",
       "    .dataframe tbody tr th:only-of-type {\n",
       "        vertical-align: middle;\n",
       "    }\n",
       "\n",
       "    .dataframe tbody tr th {\n",
       "        vertical-align: top;\n",
       "    }\n",
       "\n",
       "    .dataframe thead th {\n",
       "        text-align: right;\n",
       "    }\n",
       "</style>\n",
       "<table border=\"1\" class=\"dataframe\">\n",
       "  <thead>\n",
       "    <tr style=\"text-align: right;\">\n",
       "      <th></th>\n",
       "      <th>Age</th>\n",
       "      <th>Total_Purchase</th>\n",
       "      <th>Account_Manager</th>\n",
       "      <th>Years</th>\n",
       "      <th>Num_Sites</th>\n",
       "    </tr>\n",
       "  </thead>\n",
       "  <tbody>\n",
       "    <tr>\n",
       "      <th>0</th>\n",
       "      <td>42.0</td>\n",
       "      <td>11066.80</td>\n",
       "      <td>0</td>\n",
       "      <td>7.22</td>\n",
       "      <td>8.0</td>\n",
       "    </tr>\n",
       "    <tr>\n",
       "      <th>1</th>\n",
       "      <td>41.0</td>\n",
       "      <td>11916.22</td>\n",
       "      <td>0</td>\n",
       "      <td>6.50</td>\n",
       "      <td>11.0</td>\n",
       "    </tr>\n",
       "    <tr>\n",
       "      <th>2</th>\n",
       "      <td>38.0</td>\n",
       "      <td>12884.75</td>\n",
       "      <td>0</td>\n",
       "      <td>6.67</td>\n",
       "      <td>12.0</td>\n",
       "    </tr>\n",
       "    <tr>\n",
       "      <th>3</th>\n",
       "      <td>42.0</td>\n",
       "      <td>8010.76</td>\n",
       "      <td>0</td>\n",
       "      <td>6.71</td>\n",
       "      <td>10.0</td>\n",
       "    </tr>\n",
       "    <tr>\n",
       "      <th>4</th>\n",
       "      <td>37.0</td>\n",
       "      <td>9191.58</td>\n",
       "      <td>0</td>\n",
       "      <td>5.56</td>\n",
       "      <td>9.0</td>\n",
       "    </tr>\n",
       "  </tbody>\n",
       "</table>\n",
       "</div>"
      ],
      "text/plain": [
       "    Age  Total_Purchase  Account_Manager  Years  Num_Sites\n",
       "0  42.0        11066.80                0   7.22        8.0\n",
       "1  41.0        11916.22                0   6.50       11.0\n",
       "2  38.0        12884.75                0   6.67       12.0\n",
       "3  42.0         8010.76                0   6.71       10.0\n",
       "4  37.0         9191.58                0   5.56        9.0"
      ]
     },
     "execution_count": 11,
     "metadata": {},
     "output_type": "execute_result"
    }
   ],
   "source": [
    "X.head()"
   ]
  },
  {
   "cell_type": "code",
   "execution_count": 12,
   "id": "4e6d4ee5-880a-4fad-8147-967a69d5c54c",
   "metadata": {},
   "outputs": [
    {
     "data": {
      "text/plain": [
       "0    1\n",
       "1    1\n",
       "2    1\n",
       "3    1\n",
       "4    1\n",
       "Name: Churn, dtype: int64"
      ]
     },
     "execution_count": 12,
     "metadata": {},
     "output_type": "execute_result"
    }
   ],
   "source": [
    "y.head()"
   ]
  },
  {
   "cell_type": "code",
   "execution_count": 13,
   "id": "30a7625e-3e0f-4587-a52a-c9f1cd88cad4",
   "metadata": {},
   "outputs": [
    {
     "data": {
      "text/plain": [
       "0    True\n",
       "1    True\n",
       "2    True\n",
       "3    True\n",
       "4    True\n",
       "Name: Churn, dtype: bool"
      ]
     },
     "execution_count": 13,
     "metadata": {},
     "output_type": "execute_result"
    }
   ],
   "source": []
  },
  {
   "cell_type": "code",
   "execution_count": 14,
   "id": "d1401c81-081a-499f-84fa-1eb2a6b4abba",
   "metadata": {},
   "outputs": [
    {
     "data": {
      "text/plain": [
       "150"
      ]
     },
     "execution_count": 14,
     "metadata": {},
     "output_type": "execute_result"
    }
   ],
   "source": [
    "(y==1).sum()"
   ]
  },
  {
   "cell_type": "code",
   "execution_count": 15,
   "id": "5ae1fd20-fb55-4208-b149-0a5bc63e47be",
   "metadata": {},
   "outputs": [
    {
     "data": {
      "text/plain": [
       "0.16666666666666666"
      ]
     },
     "execution_count": 15,
     "metadata": {},
     "output_type": "execute_result"
    }
   ],
   "source": [
    "150/900"
   ]
  },
  {
   "cell_type": "markdown",
   "id": "a3ff79e4-05e6-4e69-bf8d-55a5adfa71d5",
   "metadata": {},
   "source": []
  },
  {
   "cell_type": "markdown",
   "id": "45660dd0-d5c0-4bf7-bc90-392ee1776ea3",
   "metadata": {},
   "source": [
    "## Random  Forest"
   ]
  },
  {
   "cell_type": "code",
   "execution_count": 16,
   "id": "177723c1-6082-4a37-9e08-2485ac0f4b4a",
   "metadata": {},
   "outputs": [],
   "source": [
    "from sklearn.ensemble import RandomForestClassifier"
   ]
  },
  {
   "cell_type": "code",
   "execution_count": 17,
   "id": "71361a96-343a-4706-97bd-9097363b3e9e",
   "metadata": {},
   "outputs": [],
   "source": [
    "forest1=RandomForestClassifier()"
   ]
  },
  {
   "cell_type": "markdown",
   "id": "236c8e1a-bf36-48bd-8a5d-a92a5fd0c272",
   "metadata": {},
   "source": [
    "### Train test split  or Hold out method"
   ]
  },
  {
   "cell_type": "code",
   "execution_count": 18,
   "id": "e176dd5d-42e9-4548-b168-a896b6439597",
   "metadata": {},
   "outputs": [],
   "source": [
    "from sklearn.model_selection import train_test_split"
   ]
  },
  {
   "cell_type": "code",
   "execution_count": 19,
   "id": "4ecd71b4-9dc1-4ba1-944e-d765f126d7b9",
   "metadata": {},
   "outputs": [],
   "source": [
    "X_train,X_test,y_train,y_test=train_test_split(X,y)"
   ]
  },
  {
   "cell_type": "code",
   "execution_count": 20,
   "id": "75ccd321-822c-486c-a8bd-7e4d2f80d05d",
   "metadata": {},
   "outputs": [
    {
     "data": {
      "text/plain": [
       "RandomForestClassifier()"
      ]
     },
     "execution_count": 20,
     "metadata": {},
     "output_type": "execute_result"
    }
   ],
   "source": [
    "forest1.fit(X_train,y_train)"
   ]
  },
  {
   "cell_type": "code",
   "execution_count": 21,
   "id": "bc9e599c-ab1d-4cb3-ac2e-35a8f2350f6d",
   "metadata": {},
   "outputs": [
    {
     "name": "stdout",
     "output_type": "stream",
     "text": [
      "1.0\n",
      "0.8488888888888889\n"
     ]
    }
   ],
   "source": [
    "print(forest1.score(X_train,y_train))\n",
    "print(forest1.score(X_test,y_test))"
   ]
  },
  {
   "cell_type": "code",
   "execution_count": 22,
   "id": "6ac073a1-4054-411f-9d11-5953cb60e2a8",
   "metadata": {},
   "outputs": [],
   "source": [
    "from sklearn.metrics import confusion_matrix"
   ]
  },
  {
   "cell_type": "code",
   "execution_count": 23,
   "id": "cc8a544c-9a3b-49d7-80ae-3f4113a9b3ab",
   "metadata": {},
   "outputs": [],
   "source": [
    "y_pred=forest1.predict(X_test)"
   ]
  },
  {
   "cell_type": "code",
   "execution_count": 24,
   "id": "dbdd297e-bcb1-4f61-bd37-25e7b2d9606f",
   "metadata": {},
   "outputs": [
    {
     "data": {
      "text/plain": [
       "array([[171,   7],\n",
       "       [ 27,  20]])"
      ]
     },
     "execution_count": 24,
     "metadata": {},
     "output_type": "execute_result"
    }
   ],
   "source": [
    "confusion_matrix(y_test,y_pred)"
   ]
  },
  {
   "cell_type": "code",
   "execution_count": 25,
   "id": "656f07eb-e3f1-472f-bbe7-ea32af1261bc",
   "metadata": {},
   "outputs": [],
   "source": [
    "def forestModel(n=100):\n",
    "    forest1=RandomForestClassifier(n_estimators=n)\n",
    "    forest1.fit(X_train,y_train)\n",
    "    print(forest1.score(X_train,y_train))\n",
    "    print(forest1.score(X_test,y_test))"
   ]
  },
  {
   "cell_type": "code",
   "execution_count": 26,
   "id": "ac2f0be7-8154-4e21-965b-6d9c4bbf6ef2",
   "metadata": {},
   "outputs": [
    {
     "name": "stdout",
     "output_type": "stream",
     "text": [
      "0.9985185185185185\n",
      "0.8711111111111111\n"
     ]
    }
   ],
   "source": [
    "forestModel()"
   ]
  },
  {
   "cell_type": "code",
   "execution_count": 27,
   "id": "09418071-b9d2-4316-a20e-6d0823bf3723",
   "metadata": {},
   "outputs": [
    {
     "name": "stdout",
     "output_type": "stream",
     "text": [
      "1.0\n",
      "0.8533333333333334\n"
     ]
    }
   ],
   "source": [
    "forestModel(200)"
   ]
  },
  {
   "cell_type": "code",
   "execution_count": 28,
   "id": "64800d96-5188-4b1d-81e0-b2d97beaf803",
   "metadata": {},
   "outputs": [
    {
     "name": "stdout",
     "output_type": "stream",
     "text": [
      "1.0\n",
      "0.8488888888888889\n"
     ]
    }
   ],
   "source": [
    "forestModel(300)"
   ]
  },
  {
   "cell_type": "code",
   "execution_count": 29,
   "id": "91269802-660d-4deb-838b-c577cc0cf631",
   "metadata": {},
   "outputs": [
    {
     "name": "stdout",
     "output_type": "stream",
     "text": [
      "1.0\n",
      "0.8533333333333334\n"
     ]
    }
   ],
   "source": [
    "forestModel(1000)"
   ]
  },
  {
   "cell_type": "code",
   "execution_count": 30,
   "id": "77f46d2d-d9ec-46eb-9253-4fe6705babea",
   "metadata": {},
   "outputs": [],
   "source": [
    "\n",
    "def forestModel1(n=100):\n",
    "    forest1=RandomForestClassifier(n_estimators=n,criterion=\"entropy\")\n",
    "    forest1.fit(X_train,y_train)\n",
    "    print(forest1.score(X_train,y_train))\n",
    "    print(forest1.score(X_test,y_test))"
   ]
  },
  {
   "cell_type": "code",
   "execution_count": 31,
   "id": "c9c6d52a-0931-496b-808d-fb0121f4ad41",
   "metadata": {},
   "outputs": [
    {
     "name": "stdout",
     "output_type": "stream",
     "text": [
      "1.0\n",
      "0.8666666666666667\n"
     ]
    }
   ],
   "source": [
    "forestModel1()"
   ]
  },
  {
   "cell_type": "code",
   "execution_count": 34,
   "id": "3117b365-3618-48c4-bfb0-9d2e94d3583c",
   "metadata": {},
   "outputs": [
    {
     "name": "stdout",
     "output_type": "stream",
     "text": [
      "1.0\n",
      "0.8577777777777778\n"
     ]
    }
   ],
   "source": [
    "forestModel1(1000)"
   ]
  },
  {
   "cell_type": "markdown",
   "id": "4f587d9a-549f-4a4c-b47d-ab00b7bdfe89",
   "metadata": {},
   "source": [
    "## Grid search Cv"
   ]
  },
  {
   "cell_type": "code",
   "execution_count": 35,
   "id": "3a663878-94c8-40ec-9cf8-b11a38743476",
   "metadata": {},
   "outputs": [],
   "source": [
    "from sklearn.model_selection import GridSearchCV"
   ]
  },
  {
   "cell_type": "code",
   "execution_count": 36,
   "id": "87e6c90d-0d8b-43fd-b908-2fad4efab780",
   "metadata": {},
   "outputs": [],
   "source": [
    "model =RandomForestClassifier()\n",
    "grid_model=GridSearchCV(model,param_grid={\"n_estimators\":range(100,1001,100),\n",
    "                               \"criterion\":[\"gini\",\"entropy\"]})"
   ]
  },
  {
   "cell_type": "code",
   "execution_count": 37,
   "id": "23a41c72-eb91-48cc-a5ac-a08d63139aec",
   "metadata": {},
   "outputs": [
    {
     "data": {
      "text/plain": [
       "GridSearchCV(estimator=RandomForestClassifier(),\n",
       "             param_grid={'criterion': ['gini', 'entropy'],\n",
       "                         'n_estimators': range(100, 1001, 100)})"
      ]
     },
     "execution_count": 37,
     "metadata": {},
     "output_type": "execute_result"
    }
   ],
   "source": [
    "grid_model.fit(X,y)"
   ]
  },
  {
   "cell_type": "code",
   "execution_count": 38,
   "id": "6299870c-16a7-41cc-b346-269cb9d85bef",
   "metadata": {},
   "outputs": [
    {
     "data": {
      "text/plain": [
       "{'mean_fit_time': array([0.15041752, 0.27409606, 0.37633109, 0.4966414 , 0.62531695,\n",
       "        0.74303098, 0.87979064, 0.99517827, 1.12195411, 1.24580822,\n",
       "        0.13387618, 0.2657445 , 0.39743695, 0.5347703 , 0.66474223,\n",
       "        0.79278226, 1.01835651, 1.06940923, 1.19162831, 1.33144283]),\n",
       " 'std_fit_time': array([0.01408297, 0.02228681, 0.00681512, 0.00304109, 0.00341076,\n",
       "        0.00435446, 0.01838458, 0.00943054, 0.00689474, 0.00930532,\n",
       "        0.00404721, 0.00315418, 0.00387653, 0.00700284, 0.01099068,\n",
       "        0.01192633, 0.08509116, 0.02282381, 0.00570706, 0.02312539]),\n",
       " 'mean_score_time': array([0.01144004, 0.02029018, 0.02754688, 0.0365653 , 0.04465175,\n",
       "        0.05526443, 0.08490276, 0.07007899, 0.08129253, 0.08835692,\n",
       "        0.01023145, 0.0184752 , 0.02995729, 0.0365171 , 0.04573059,\n",
       "        0.05484428, 0.07508588, 0.07176862, 0.08111076, 0.08923302]),\n",
       " 'std_score_time': array([0.00100097, 0.00204054, 0.00110571, 0.00139435, 0.00048113,\n",
       "        0.00214132, 0.04590113, 0.00042844, 0.00443478, 0.0018839 ,\n",
       "        0.00062889, 0.00053624, 0.00331711, 0.00205565, 0.00129014,\n",
       "        0.00226701, 0.01373236, 0.0021166 , 0.00127514, 0.00260082]),\n",
       " 'param_criterion': masked_array(data=['gini', 'gini', 'gini', 'gini', 'gini', 'gini', 'gini',\n",
       "                    'gini', 'gini', 'gini', 'entropy', 'entropy',\n",
       "                    'entropy', 'entropy', 'entropy', 'entropy', 'entropy',\n",
       "                    'entropy', 'entropy', 'entropy'],\n",
       "              mask=[False, False, False, False, False, False, False, False,\n",
       "                    False, False, False, False, False, False, False, False,\n",
       "                    False, False, False, False],\n",
       "        fill_value='?',\n",
       "             dtype=object),\n",
       " 'param_n_estimators': masked_array(data=[100, 200, 300, 400, 500, 600, 700, 800, 900, 1000, 100,\n",
       "                    200, 300, 400, 500, 600, 700, 800, 900, 1000],\n",
       "              mask=[False, False, False, False, False, False, False, False,\n",
       "                    False, False, False, False, False, False, False, False,\n",
       "                    False, False, False, False],\n",
       "        fill_value='?',\n",
       "             dtype=object),\n",
       " 'params': [{'criterion': 'gini', 'n_estimators': 100},\n",
       "  {'criterion': 'gini', 'n_estimators': 200},\n",
       "  {'criterion': 'gini', 'n_estimators': 300},\n",
       "  {'criterion': 'gini', 'n_estimators': 400},\n",
       "  {'criterion': 'gini', 'n_estimators': 500},\n",
       "  {'criterion': 'gini', 'n_estimators': 600},\n",
       "  {'criterion': 'gini', 'n_estimators': 700},\n",
       "  {'criterion': 'gini', 'n_estimators': 800},\n",
       "  {'criterion': 'gini', 'n_estimators': 900},\n",
       "  {'criterion': 'gini', 'n_estimators': 1000},\n",
       "  {'criterion': 'entropy', 'n_estimators': 100},\n",
       "  {'criterion': 'entropy', 'n_estimators': 200},\n",
       "  {'criterion': 'entropy', 'n_estimators': 300},\n",
       "  {'criterion': 'entropy', 'n_estimators': 400},\n",
       "  {'criterion': 'entropy', 'n_estimators': 500},\n",
       "  {'criterion': 'entropy', 'n_estimators': 600},\n",
       "  {'criterion': 'entropy', 'n_estimators': 700},\n",
       "  {'criterion': 'entropy', 'n_estimators': 800},\n",
       "  {'criterion': 'entropy', 'n_estimators': 900},\n",
       "  {'criterion': 'entropy', 'n_estimators': 1000}],\n",
       " 'split0_test_score': array([0.86111111, 0.85555556, 0.85555556, 0.86111111, 0.86111111,\n",
       "        0.86111111, 0.86111111, 0.86111111, 0.86111111, 0.85555556,\n",
       "        0.85555556, 0.85555556, 0.85555556, 0.85555556, 0.85555556,\n",
       "        0.85555556, 0.86111111, 0.85      , 0.86666667, 0.85      ]),\n",
       " 'split1_test_score': array([0.87222222, 0.86666667, 0.86111111, 0.87222222, 0.86666667,\n",
       "        0.87222222, 0.86666667, 0.86111111, 0.86111111, 0.87222222,\n",
       "        0.86111111, 0.85555556, 0.84444444, 0.86111111, 0.86666667,\n",
       "        0.85555556, 0.86111111, 0.86666667, 0.86666667, 0.85555556]),\n",
       " 'split2_test_score': array([0.89444444, 0.87222222, 0.87222222, 0.86666667, 0.87777778,\n",
       "        0.87222222, 0.87222222, 0.87777778, 0.87777778, 0.87777778,\n",
       "        0.86666667, 0.87777778, 0.88333333, 0.88333333, 0.87777778,\n",
       "        0.88888889, 0.88333333, 0.88888889, 0.88888889, 0.88888889]),\n",
       " 'split3_test_score': array([0.88333333, 0.88333333, 0.87777778, 0.88888889, 0.87777778,\n",
       "        0.87777778, 0.88888889, 0.88333333, 0.88333333, 0.88333333,\n",
       "        0.88333333, 0.88888889, 0.88888889, 0.87777778, 0.87777778,\n",
       "        0.87222222, 0.87777778, 0.87777778, 0.87777778, 0.87777778]),\n",
       " 'split4_test_score': array([0.90555556, 0.90555556, 0.90555556, 0.90555556, 0.90555556,\n",
       "        0.90555556, 0.90555556, 0.90555556, 0.90555556, 0.90555556,\n",
       "        0.89444444, 0.88888889, 0.89444444, 0.89444444, 0.9       ,\n",
       "        0.91111111, 0.90555556, 0.90555556, 0.9       , 0.88888889]),\n",
       " 'mean_test_score': array([0.88333333, 0.87666667, 0.87444444, 0.87888889, 0.87777778,\n",
       "        0.87777778, 0.87888889, 0.87777778, 0.87777778, 0.87888889,\n",
       "        0.87222222, 0.87333333, 0.87333333, 0.87444444, 0.87555556,\n",
       "        0.87666667, 0.87777778, 0.87777778, 0.88      , 0.87222222]),\n",
       " 'std_test_score': array([0.01571348, 0.01699673, 0.0174271 , 0.01625415, 0.01531561,\n",
       "        0.01490712, 0.01625415, 0.01648044, 0.01648044, 0.01625415,\n",
       "        0.01448712, 0.01507184, 0.01968894, 0.01431567, 0.01474055,\n",
       "        0.02119865, 0.01648044, 0.01892154, 0.01295767, 0.01648044]),\n",
       " 'rank_test_score': array([ 1, 12, 15,  3,  6,  6,  3,  6,  6,  3, 19, 17, 17, 15, 14, 13,  6,\n",
       "         6,  2, 20], dtype=int32)}"
      ]
     },
     "execution_count": 38,
     "metadata": {},
     "output_type": "execute_result"
    }
   ],
   "source": [
    "grid_model.cv_results_"
   ]
  },
  {
   "cell_type": "code",
   "execution_count": 39,
   "id": "bfbea8be-8ef4-450a-89db-58f285784193",
   "metadata": {},
   "outputs": [
    {
     "data": {
      "text/plain": [
       "RandomForestClassifier()"
      ]
     },
     "execution_count": 39,
     "metadata": {},
     "output_type": "execute_result"
    }
   ],
   "source": [
    "grid_model.best_estimator_"
   ]
  },
  {
   "cell_type": "code",
   "execution_count": 40,
   "id": "3cb4241c-c1f0-4e54-a84c-4758aa24d5ae",
   "metadata": {},
   "outputs": [
    {
     "data": {
      "text/plain": [
       "{'criterion': 'gini', 'n_estimators': 100}"
      ]
     },
     "execution_count": 40,
     "metadata": {},
     "output_type": "execute_result"
    }
   ],
   "source": [
    "grid_model.best_params_"
   ]
  },
  {
   "cell_type": "code",
   "execution_count": 41,
   "id": "a0ffd0df-7d95-41ca-9c1b-2c69fb875da3",
   "metadata": {},
   "outputs": [
    {
     "data": {
      "text/plain": [
       "0.8833333333333334"
      ]
     },
     "execution_count": 41,
     "metadata": {},
     "output_type": "execute_result"
    }
   ],
   "source": [
    "grid_model.best_score_"
   ]
  },
  {
   "cell_type": "code",
   "execution_count": 42,
   "id": "f9fbf03d-8236-403e-969a-3be6d51bb8e5",
   "metadata": {},
   "outputs": [
    {
     "data": {
      "text/plain": [
       "RandomForestClassifier()"
      ]
     },
     "execution_count": 42,
     "metadata": {},
     "output_type": "execute_result"
    }
   ],
   "source": [
    "best_model=RandomForestClassifier(n_estimators=100,criterion=\"gini\")\n",
    "best_model.fit(X,y)"
   ]
  },
  {
   "cell_type": "code",
   "execution_count": null,
   "id": "1a433dfc-8ec9-488b-91e2-410f5fd11823",
   "metadata": {},
   "outputs": [],
   "source": [
    "best_model"
   ]
  }
 ],
 "metadata": {
  "kernelspec": {
   "display_name": "Python 3 (ipykernel)",
   "language": "python",
   "name": "python3"
  },
  "language_info": {
   "codemirror_mode": {
    "name": "ipython",
    "version": 3
   },
   "file_extension": ".py",
   "mimetype": "text/x-python",
   "name": "python",
   "nbconvert_exporter": "python",
   "pygments_lexer": "ipython3",
   "version": "3.9.7"
  }
 },
 "nbformat": 4,
 "nbformat_minor": 5
}
