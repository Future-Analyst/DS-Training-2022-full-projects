{
 "cells": [
  {
   "cell_type": "code",
   "execution_count": 62,
   "id": "5aee8b29-6891-4b64-be34-091ff4d1c7e6",
   "metadata": {},
   "outputs": [],
   "source": [
    "import numpy as np\n",
    "X=np.linspace(-20,20,100)\n",
    "y=5*X+7"
   ]
  },
  {
   "cell_type": "code",
   "execution_count": 63,
   "id": "c9a3882e-3ddb-4418-84ca-0f6861d49f9c",
   "metadata": {},
   "outputs": [],
   "source": [
    "import matplotlib.pyplot as plt"
   ]
  },
  {
   "cell_type": "code",
   "execution_count": 64,
   "id": "ce0bc824-586b-4594-809c-d05ea25bca35",
   "metadata": {},
   "outputs": [
    {
     "data": {
      "text/plain": [
       "array([-9.30000000e+01, -9.09797980e+01, -8.89595960e+01, -8.69393939e+01,\n",
       "       -8.49191919e+01, -8.28989899e+01, -8.08787879e+01, -7.88585859e+01,\n",
       "       -7.68383838e+01, -7.48181818e+01, -7.27979798e+01, -7.07777778e+01,\n",
       "       -6.87575758e+01, -6.67373737e+01, -6.47171717e+01, -6.26969697e+01,\n",
       "       -6.06767677e+01, -5.86565657e+01, -5.66363636e+01, -5.46161616e+01,\n",
       "       -5.25959596e+01, -5.05757576e+01, -4.85555556e+01, -4.65353535e+01,\n",
       "       -4.45151515e+01, -4.24949495e+01, -4.04747475e+01, -3.84545455e+01,\n",
       "       -3.64343434e+01, -3.44141414e+01, -3.23939394e+01, -3.03737374e+01,\n",
       "       -2.83535354e+01, -2.63333333e+01, -2.43131313e+01, -2.22929293e+01,\n",
       "       -2.02727273e+01, -1.82525253e+01, -1.62323232e+01, -1.42121212e+01,\n",
       "       -1.21919192e+01, -1.01717172e+01, -8.15151515e+00, -6.13131313e+00,\n",
       "       -4.11111111e+00, -2.09090909e+00, -7.07070707e-02,  1.94949495e+00,\n",
       "        3.96969697e+00,  5.98989899e+00,  8.01010101e+00,  1.00303030e+01,\n",
       "        1.20505051e+01,  1.40707071e+01,  1.60909091e+01,  1.81111111e+01,\n",
       "        2.01313131e+01,  2.21515152e+01,  2.41717172e+01,  2.61919192e+01,\n",
       "        2.82121212e+01,  3.02323232e+01,  3.22525253e+01,  3.42727273e+01,\n",
       "        3.62929293e+01,  3.83131313e+01,  4.03333333e+01,  4.23535354e+01,\n",
       "        4.43737374e+01,  4.63939394e+01,  4.84141414e+01,  5.04343434e+01,\n",
       "        5.24545455e+01,  5.44747475e+01,  5.64949495e+01,  5.85151515e+01,\n",
       "        6.05353535e+01,  6.25555556e+01,  6.45757576e+01,  6.65959596e+01,\n",
       "        6.86161616e+01,  7.06363636e+01,  7.26565657e+01,  7.46767677e+01,\n",
       "        7.66969697e+01,  7.87171717e+01,  8.07373737e+01,  8.27575758e+01,\n",
       "        8.47777778e+01,  8.67979798e+01,  8.88181818e+01,  9.08383838e+01,\n",
       "        9.28585859e+01,  9.48787879e+01,  9.68989899e+01,  9.89191919e+01,\n",
       "        1.00939394e+02,  1.02959596e+02,  1.04979798e+02,  1.07000000e+02])"
      ]
     },
     "execution_count": 64,
     "metadata": {},
     "output_type": "execute_result"
    },
    {
     "data": {
      "image/png": "[encoded data removed]",
      "text/plain": [
       "<Figure size 432x288 with 1 Axes>"
      ]
     },
     "metadata": {
      "needs_background": "light"
     },
     "output_type": "display_data"
    }
   ],
   "source": [
    "plt.scatter(X,y)\n",
    "y"
   ]
  },
  {
   "cell_type": "code",
   "execution_count": 65,
   "id": "770d159a-0e6b-4123-8499-9d9bc97334de",
   "metadata": {},
   "outputs": [
    {
     "data": {
      "text/plain": [
       "array([-1.30857418, -0.97709188, -0.2483345 , -0.20139822,  1.39042834,\n",
       "       -0.29643814, -0.11829348, -0.82657189, -0.14760502,  1.05115405])"
      ]
     },
     "execution_count": 65,
     "metadata": {},
     "output_type": "execute_result"
    }
   ],
   "source": [
    "np.random.randn(10)"
   ]
  },
  {
   "cell_type": "code",
   "execution_count": 66,
   "id": "13fd12fc-76bc-4c7c-81f7-1a87e4554241",
   "metadata": {},
   "outputs": [],
   "source": [
    "y=5*X+7+np.random.randn(100)"
   ]
  },
  {
   "cell_type": "code",
   "execution_count": 67,
   "id": "99a0e6f3-da61-4ab5-9fa6-91be3c4f1abe",
   "metadata": {},
   "outputs": [
    {
     "data": {
      "text/plain": [
       "<matplotlib.collections.PathCollection at 0x7f8d955718e0>"
      ]
     },
     "execution_count": 67,
     "metadata": {},
     "output_type": "execute_result"
    },
    {
     "data": {
      "image/png": "[encoded data removed]",
      "text/plain": [
       "<Figure size 432x288 with 1 Axes>"
      ]
     },
     "metadata": {
      "needs_background": "light"
     },
     "output_type": "display_data"
    }
   ],
   "source": [
    "plt.scatter(X,y)"
   ]
  },
  {
   "cell_type": "code",
   "execution_count": 68,
   "id": "b4b030c8-6978-4fa7-8876-cf134ecfcb60",
   "metadata": {},
   "outputs": [],
   "source": [
    "y=5*X+7+np.random.randn(100)*20"
   ]
  },
  {
   "cell_type": "code",
   "execution_count": 69,
   "id": "47e8438b-112e-403a-ba6e-7a7c995f68ad",
   "metadata": {},
   "outputs": [
    {
     "data": {
      "text/plain": [
       "<matplotlib.collections.PathCollection at 0x7f8d969f5dc0>"
      ]
     },
     "execution_count": 69,
     "metadata": {},
     "output_type": "execute_result"
    },
    {
     "data": {
      "image/png": "[encoded data removed]",
      "text/plain": [
       "<Figure size 432x288 with 1 Axes>"
      ]
     },
     "metadata": {
      "needs_background": "light"
     },
     "output_type": "display_data"
    }
   ],
   "source": [
    "plt.scatter(X,y)"
   ]
  },
  {
   "cell_type": "markdown",
   "id": "b02f12dc-9081-459f-92c6-62dda323d203",
   "metadata": {},
   "source": [
    "## Simple Linear Regression"
   ]
  },
  {
   "cell_type": "code",
   "execution_count": 21,
   "id": "1dca4f87-9273-4433-8427-1318d2737cbf",
   "metadata": {},
   "outputs": [],
   "source": [
    "from sklearn.linear_model import LinearRegression"
   ]
  },
  {
   "cell_type": "code",
   "execution_count": 22,
   "id": "ecf42f08-a549-4351-98ef-67d4421da811",
   "metadata": {},
   "outputs": [
    {
     "ename": "ValueError",
     "evalue": "Expected 2D array, got 1D array instead:\narray=[-20.         -19.5959596  -19.19191919 -18.78787879 -18.38383838\n -17.97979798 -17.57575758 -17.17171717 -16.76767677 -16.36363636\n -15.95959596 -15.55555556 -15.15151515 -14.74747475 -14.34343434\n -13.93939394 -13.53535354 -13.13131313 -12.72727273 -12.32323232\n -11.91919192 -11.51515152 -11.11111111 -10.70707071 -10.3030303\n  -9.8989899   -9.49494949  -9.09090909  -8.68686869  -8.28282828\n  -7.87878788  -7.47474747  -7.07070707  -6.66666667  -6.26262626\n  -5.85858586  -5.45454545  -5.05050505  -4.64646465  -4.24242424\n  -3.83838384  -3.43434343  -3.03030303  -2.62626263  -2.22222222\n  -1.81818182  -1.41414141  -1.01010101  -0.60606061  -0.2020202\n   0.2020202    0.60606061   1.01010101   1.41414141   1.81818182\n   2.22222222   2.62626263   3.03030303   3.43434343   3.83838384\n   4.24242424   4.64646465   5.05050505   5.45454545   5.85858586\n   6.26262626   6.66666667   7.07070707   7.47474747   7.87878788\n   8.28282828   8.68686869   9.09090909   9.49494949   9.8989899\n  10.3030303   10.70707071  11.11111111  11.51515152  11.91919192\n  12.32323232  12.72727273  13.13131313  13.53535354  13.93939394\n  14.34343434  14.74747475  15.15151515  15.55555556  15.95959596\n  16.36363636  16.76767677  17.17171717  17.57575758  17.97979798\n  18.38383838  18.78787879  19.19191919  19.5959596   20.        ].\nReshape your data either using array.reshape(-1, 1) if your data has a single feature or array.reshape(1, -1) if it contains a single sample.",
     "output_type": "error",
     "traceback": [
      "\u001b[0;31m---------------------------------------------------------------------------\u001b[0m",
      "\u001b[0;31mValueError\u001b[0m                                Traceback (most recent call last)",
      "\u001b[0;32m/var/folders/3d/pkg6m4_x11s9hw4jt5sb8zp00000gn/T/ipykernel_30561/1534086003.py\u001b[0m in \u001b[0;36m<module>\u001b[0;34m\u001b[0m\n\u001b[1;32m      1\u001b[0m \u001b[0mlinear_model\u001b[0m \u001b[0;34m=\u001b[0m\u001b[0mLinearRegression\u001b[0m\u001b[0;34m(\u001b[0m\u001b[0;34m)\u001b[0m\u001b[0;34m\u001b[0m\u001b[0;34m\u001b[0m\u001b[0m\n\u001b[0;32m----> 2\u001b[0;31m \u001b[0mlinear_model\u001b[0m\u001b[0;34m.\u001b[0m\u001b[0mfit\u001b[0m\u001b[0;34m(\u001b[0m\u001b[0mX\u001b[0m\u001b[0;34m,\u001b[0m\u001b[0my\u001b[0m\u001b[0;34m)\u001b[0m\u001b[0;34m\u001b[0m\u001b[0;34m\u001b[0m\u001b[0m\n\u001b[0m",
      "\u001b[0;32m~/opt/anaconda3/lib/python3.9/site-packages/sklearn/linear_model/_base.py\u001b[0m in \u001b[0;36mfit\u001b[0;34m(self, X, y, sample_weight)\u001b[0m\n\u001b[1;32m    516\u001b[0m         \u001b[0maccept_sparse\u001b[0m \u001b[0;34m=\u001b[0m \u001b[0;32mFalse\u001b[0m \u001b[0;32mif\u001b[0m \u001b[0mself\u001b[0m\u001b[0;34m.\u001b[0m\u001b[0mpositive\u001b[0m \u001b[0;32melse\u001b[0m \u001b[0;34m[\u001b[0m\u001b[0;34m'csr'\u001b[0m\u001b[0;34m,\u001b[0m \u001b[0;34m'csc'\u001b[0m\u001b[0;34m,\u001b[0m \u001b[0;34m'coo'\u001b[0m\u001b[0;34m]\u001b[0m\u001b[0;34m\u001b[0m\u001b[0;34m\u001b[0m\u001b[0m\n\u001b[1;32m    517\u001b[0m \u001b[0;34m\u001b[0m\u001b[0m\n\u001b[0;32m--> 518\u001b[0;31m         X, y = self._validate_data(X, y, accept_sparse=accept_sparse,\n\u001b[0m\u001b[1;32m    519\u001b[0m                                    y_numeric=True, multi_output=True)\n\u001b[1;32m    520\u001b[0m \u001b[0;34m\u001b[0m\u001b[0m\n",
      "\u001b[0;32m~/opt/anaconda3/lib/python3.9/site-packages/sklearn/base.py\u001b[0m in \u001b[0;36m_validate_data\u001b[0;34m(self, X, y, reset, validate_separately, **check_params)\u001b[0m\n\u001b[1;32m    431\u001b[0m                 \u001b[0my\u001b[0m \u001b[0;34m=\u001b[0m \u001b[0mcheck_array\u001b[0m\u001b[0;34m(\u001b[0m\u001b[0my\u001b[0m\u001b[0;34m,\u001b[0m \u001b[0;34m**\u001b[0m\u001b[0mcheck_y_params\u001b[0m\u001b[0;34m)\u001b[0m\u001b[0;34m\u001b[0m\u001b[0;34m\u001b[0m\u001b[0m\n\u001b[1;32m    432\u001b[0m             \u001b[0;32melse\u001b[0m\u001b[0;34m:\u001b[0m\u001b[0;34m\u001b[0m\u001b[0;34m\u001b[0m\u001b[0m\n\u001b[0;32m--> 433\u001b[0;31m                 \u001b[0mX\u001b[0m\u001b[0;34m,\u001b[0m \u001b[0my\u001b[0m \u001b[0;34m=\u001b[0m \u001b[0mcheck_X_y\u001b[0m\u001b[0;34m(\u001b[0m\u001b[0mX\u001b[0m\u001b[0;34m,\u001b[0m \u001b[0my\u001b[0m\u001b[0;34m,\u001b[0m \u001b[0;34m**\u001b[0m\u001b[0mcheck_params\u001b[0m\u001b[0;34m)\u001b[0m\u001b[0;34m\u001b[0m\u001b[0;34m\u001b[0m\u001b[0m\n\u001b[0m\u001b[1;32m    434\u001b[0m             \u001b[0mout\u001b[0m \u001b[0;34m=\u001b[0m \u001b[0mX\u001b[0m\u001b[0;34m,\u001b[0m \u001b[0my\u001b[0m\u001b[0;34m\u001b[0m\u001b[0;34m\u001b[0m\u001b[0m\n\u001b[1;32m    435\u001b[0m \u001b[0;34m\u001b[0m\u001b[0m\n",
      "\u001b[0;32m~/opt/anaconda3/lib/python3.9/site-packages/sklearn/utils/validation.py\u001b[0m in \u001b[0;36minner_f\u001b[0;34m(*args, **kwargs)\u001b[0m\n\u001b[1;32m     61\u001b[0m             \u001b[0mextra_args\u001b[0m \u001b[0;34m=\u001b[0m \u001b[0mlen\u001b[0m\u001b[0;34m(\u001b[0m\u001b[0margs\u001b[0m\u001b[0;34m)\u001b[0m \u001b[0;34m-\u001b[0m \u001b[0mlen\u001b[0m\u001b[0;34m(\u001b[0m\u001b[0mall_args\u001b[0m\u001b[0;34m)\u001b[0m\u001b[0;34m\u001b[0m\u001b[0;34m\u001b[0m\u001b[0m\n\u001b[1;32m     62\u001b[0m             \u001b[0;32mif\u001b[0m \u001b[0mextra_args\u001b[0m \u001b[0;34m<=\u001b[0m \u001b[0;36m0\u001b[0m\u001b[0;34m:\u001b[0m\u001b[0;34m\u001b[0m\u001b[0;34m\u001b[0m\u001b[0m\n\u001b[0;32m---> 63\u001b[0;31m                 \u001b[0;32mreturn\u001b[0m \u001b[0mf\u001b[0m\u001b[0;34m(\u001b[0m\u001b[0;34m*\u001b[0m\u001b[0margs\u001b[0m\u001b[0;34m,\u001b[0m \u001b[0;34m**\u001b[0m\u001b[0mkwargs\u001b[0m\u001b[0;34m)\u001b[0m\u001b[0;34m\u001b[0m\u001b[0;34m\u001b[0m\u001b[0m\n\u001b[0m\u001b[1;32m     64\u001b[0m \u001b[0;34m\u001b[0m\u001b[0m\n\u001b[1;32m     65\u001b[0m             \u001b[0;31m# extra_args > 0\u001b[0m\u001b[0;34m\u001b[0m\u001b[0;34m\u001b[0m\u001b[0m\n",
      "\u001b[0;32m~/opt/anaconda3/lib/python3.9/site-packages/sklearn/utils/validation.py\u001b[0m in \u001b[0;36mcheck_X_y\u001b[0;34m(X, y, accept_sparse, accept_large_sparse, dtype, order, copy, force_all_finite, ensure_2d, allow_nd, multi_output, ensure_min_samples, ensure_min_features, y_numeric, estimator)\u001b[0m\n\u001b[1;32m    869\u001b[0m         \u001b[0;32mraise\u001b[0m \u001b[0mValueError\u001b[0m\u001b[0;34m(\u001b[0m\u001b[0;34m\"y cannot be None\"\u001b[0m\u001b[0;34m)\u001b[0m\u001b[0;34m\u001b[0m\u001b[0;34m\u001b[0m\u001b[0m\n\u001b[1;32m    870\u001b[0m \u001b[0;34m\u001b[0m\u001b[0m\n\u001b[0;32m--> 871\u001b[0;31m     X = check_array(X, accept_sparse=accept_sparse,\n\u001b[0m\u001b[1;32m    872\u001b[0m                     \u001b[0maccept_large_sparse\u001b[0m\u001b[0;34m=\u001b[0m\u001b[0maccept_large_sparse\u001b[0m\u001b[0;34m,\u001b[0m\u001b[0;34m\u001b[0m\u001b[0;34m\u001b[0m\u001b[0m\n\u001b[1;32m    873\u001b[0m                     \u001b[0mdtype\u001b[0m\u001b[0;34m=\u001b[0m\u001b[0mdtype\u001b[0m\u001b[0;34m,\u001b[0m \u001b[0morder\u001b[0m\u001b[0;34m=\u001b[0m\u001b[0morder\u001b[0m\u001b[0;34m,\u001b[0m \u001b[0mcopy\u001b[0m\u001b[0;34m=\u001b[0m\u001b[0mcopy\u001b[0m\u001b[0;34m,\u001b[0m\u001b[0;34m\u001b[0m\u001b[0;34m\u001b[0m\u001b[0m\n",
      "\u001b[0;32m~/opt/anaconda3/lib/python3.9/site-packages/sklearn/utils/validation.py\u001b[0m in \u001b[0;36minner_f\u001b[0;34m(*args, **kwargs)\u001b[0m\n\u001b[1;32m     61\u001b[0m             \u001b[0mextra_args\u001b[0m \u001b[0;34m=\u001b[0m \u001b[0mlen\u001b[0m\u001b[0;34m(\u001b[0m\u001b[0margs\u001b[0m\u001b[0;34m)\u001b[0m \u001b[0;34m-\u001b[0m \u001b[0mlen\u001b[0m\u001b[0;34m(\u001b[0m\u001b[0mall_args\u001b[0m\u001b[0;34m)\u001b[0m\u001b[0;34m\u001b[0m\u001b[0;34m\u001b[0m\u001b[0m\n\u001b[1;32m     62\u001b[0m             \u001b[0;32mif\u001b[0m \u001b[0mextra_args\u001b[0m \u001b[0;34m<=\u001b[0m \u001b[0;36m0\u001b[0m\u001b[0;34m:\u001b[0m\u001b[0;34m\u001b[0m\u001b[0;34m\u001b[0m\u001b[0m\n\u001b[0;32m---> 63\u001b[0;31m                 \u001b[0;32mreturn\u001b[0m \u001b[0mf\u001b[0m\u001b[0;34m(\u001b[0m\u001b[0;34m*\u001b[0m\u001b[0margs\u001b[0m\u001b[0;34m,\u001b[0m \u001b[0;34m**\u001b[0m\u001b[0mkwargs\u001b[0m\u001b[0;34m)\u001b[0m\u001b[0;34m\u001b[0m\u001b[0;34m\u001b[0m\u001b[0m\n\u001b[0m\u001b[1;32m     64\u001b[0m \u001b[0;34m\u001b[0m\u001b[0m\n\u001b[1;32m     65\u001b[0m             \u001b[0;31m# extra_args > 0\u001b[0m\u001b[0;34m\u001b[0m\u001b[0;34m\u001b[0m\u001b[0m\n",
      "\u001b[0;32m~/opt/anaconda3/lib/python3.9/site-packages/sklearn/utils/validation.py\u001b[0m in \u001b[0;36mcheck_array\u001b[0;34m(array, accept_sparse, accept_large_sparse, dtype, order, copy, force_all_finite, ensure_2d, allow_nd, ensure_min_samples, ensure_min_features, estimator)\u001b[0m\n\u001b[1;32m    692\u001b[0m             \u001b[0;31m# If input is 1D raise error\u001b[0m\u001b[0;34m\u001b[0m\u001b[0;34m\u001b[0m\u001b[0m\n\u001b[1;32m    693\u001b[0m             \u001b[0;32mif\u001b[0m \u001b[0marray\u001b[0m\u001b[0;34m.\u001b[0m\u001b[0mndim\u001b[0m \u001b[0;34m==\u001b[0m \u001b[0;36m1\u001b[0m\u001b[0;34m:\u001b[0m\u001b[0;34m\u001b[0m\u001b[0;34m\u001b[0m\u001b[0m\n\u001b[0;32m--> 694\u001b[0;31m                 raise ValueError(\n\u001b[0m\u001b[1;32m    695\u001b[0m                     \u001b[0;34m\"Expected 2D array, got 1D array instead:\\narray={}.\\n\"\u001b[0m\u001b[0;34m\u001b[0m\u001b[0;34m\u001b[0m\u001b[0m\n\u001b[1;32m    696\u001b[0m                     \u001b[0;34m\"Reshape your data either using array.reshape(-1, 1) if \"\u001b[0m\u001b[0;34m\u001b[0m\u001b[0;34m\u001b[0m\u001b[0m\n",
      "\u001b[0;31mValueError\u001b[0m: Expected 2D array, got 1D array instead:\narray=[-20.         -19.5959596  -19.19191919 -18.78787879 -18.38383838\n -17.97979798 -17.57575758 -17.17171717 -16.76767677 -16.36363636\n -15.95959596 -15.55555556 -15.15151515 -14.74747475 -14.34343434\n -13.93939394 -13.53535354 -13.13131313 -12.72727273 -12.32323232\n -11.91919192 -11.51515152 -11.11111111 -10.70707071 -10.3030303\n  -9.8989899   -9.49494949  -9.09090909  -8.68686869  -8.28282828\n  -7.87878788  -7.47474747  -7.07070707  -6.66666667  -6.26262626\n  -5.85858586  -5.45454545  -5.05050505  -4.64646465  -4.24242424\n  -3.83838384  -3.43434343  -3.03030303  -2.62626263  -2.22222222\n  -1.81818182  -1.41414141  -1.01010101  -0.60606061  -0.2020202\n   0.2020202    0.60606061   1.01010101   1.41414141   1.81818182\n   2.22222222   2.62626263   3.03030303   3.43434343   3.83838384\n   4.24242424   4.64646465   5.05050505   5.45454545   5.85858586\n   6.26262626   6.66666667   7.07070707   7.47474747   7.87878788\n   8.28282828   8.68686869   9.09090909   9.49494949   9.8989899\n  10.3030303   10.70707071  11.11111111  11.51515152  11.91919192\n  12.32323232  12.72727273  13.13131313  13.53535354  13.93939394\n  14.34343434  14.74747475  15.15151515  15.55555556  15.95959596\n  16.36363636  16.76767677  17.17171717  17.57575758  17.97979798\n  18.38383838  18.78787879  19.19191919  19.5959596   20.        ].\nReshape your data either using array.reshape(-1, 1) if your data has a single feature or array.reshape(1, -1) if it contains a single sample."
     ]
    }
   ],
   "source": [
    "linear_model =LinearRegression()\n",
    "linear_model.fit(X,y)"
   ]
  },
  {
   "cell_type": "code",
   "execution_count": 70,
   "id": "e2aa175d-c3ec-46a6-aa90-9185de0e4b36",
   "metadata": {},
   "outputs": [
    {
     "data": {
      "text/plain": [
       "LinearRegression()"
      ]
     },
     "execution_count": 70,
     "metadata": {},
     "output_type": "execute_result"
    }
   ],
   "source": [
    "X=X.reshape(-1,1)\n",
    "linear_model.fit(X,y)"
   ]
  },
  {
   "cell_type": "code",
   "execution_count": 71,
   "id": "17e17e4d-ad7f-41da-9863-401eb7bca61d",
   "metadata": {},
   "outputs": [
    {
     "data": {
      "text/plain": [
       "array([4.91395126])"
      ]
     },
     "execution_count": 71,
     "metadata": {},
     "output_type": "execute_result"
    }
   ],
   "source": [
    "linear_model.coef_"
   ]
  },
  {
   "cell_type": "code",
   "execution_count": 72,
   "id": "0594b8a3-87d7-430d-a665-045edcc04e52",
   "metadata": {},
   "outputs": [
    {
     "data": {
      "text/plain": [
       "7.377065743708386"
      ]
     },
     "execution_count": 72,
     "metadata": {},
     "output_type": "execute_result"
    }
   ],
   "source": [
    "linear_model.intercept_"
   ]
  },
  {
   "cell_type": "code",
   "execution_count": 73,
   "id": "71252dda-debf-480d-b0a6-9bca1faf2c47",
   "metadata": {},
   "outputs": [],
   "source": [
    "y_pred=linear_model.predict(X)"
   ]
  },
  {
   "cell_type": "code",
   "execution_count": 27,
   "id": "f73b3865-cdef-4f32-a214-a156c83702ee",
   "metadata": {},
   "outputs": [
    {
     "data": {
      "text/plain": [
       "[<matplotlib.lines.Line2D at 0x7f8d95a97e20>]"
      ]
     },
     "execution_count": 27,
     "metadata": {},
     "output_type": "execute_result"
    },
    {
     "data": {
      "image/png": "[encoded data removed]",
      "text/plain": [
       "<Figure size 432x288 with 1 Axes>"
      ]
     },
     "metadata": {
      "needs_background": "light"
     },
     "output_type": "display_data"
    }
   ],
   "source": [
    "plt.plot(X,y_pred)"
   ]
  },
  {
   "cell_type": "code",
   "execution_count": 36,
   "id": "19da3f20-6baf-40b1-93dc-6400249f60e7",
   "metadata": {},
   "outputs": [
    {
     "data": {
      "text/plain": [
       "[<matplotlib.lines.Line2D at 0x7f8d96280c40>]"
      ]
     },
     "execution_count": 36,
     "metadata": {},
     "output_type": "execute_result"
    },
    {
     "data": {
      "image/png": "[encoded data removed]",
      "text/plain": [
       "<Figure size 432x288 with 1 Axes>"
      ]
     },
     "metadata": {
      "needs_background": "light"
     },
     "output_type": "display_data"
    }
   ],
   "source": [
    "plt.scatter(X,y,alpha=0.4)\n",
    "plt.plot(X,y_pred,c=\"r\")"
   ]
  },
  {
   "cell_type": "code",
   "execution_count": 37,
   "id": "08cc149a-5d50-4bdb-990d-2133bce96310",
   "metadata": {},
   "outputs": [
    {
     "data": {
      "text/plain": [
       "0.9081255856428778"
      ]
     },
     "execution_count": 37,
     "metadata": {},
     "output_type": "execute_result"
    }
   ],
   "source": [
    "linear_model.score(X,y)"
   ]
  },
  {
   "cell_type": "code",
   "execution_count": 38,
   "id": "87d908d6-0f81-493f-b735-6ca6a753cc82",
   "metadata": {},
   "outputs": [],
   "source": [
    "y1=2*X**2-5*X+6"
   ]
  },
  {
   "cell_type": "code",
   "execution_count": 39,
   "id": "d6779924-74df-4f26-acca-61aebcea6161",
   "metadata": {},
   "outputs": [
    {
     "data": {
      "text/plain": [
       "<matplotlib.collections.PathCollection at 0x7f8d96316fa0>"
      ]
     },
     "execution_count": 39,
     "metadata": {},
     "output_type": "execute_result"
    },
    {
     "data": {
      "image/png": "[encoded data removed]",
      "text/plain": [
       "<Figure size 432x288 with 1 Axes>"
      ]
     },
     "metadata": {
      "needs_background": "light"
     },
     "output_type": "display_data"
    }
   ],
   "source": [
    "plt.scatter(X,y1)"
   ]
  },
  {
   "cell_type": "code",
   "execution_count": 74,
   "id": "cec1a26d-334e-4995-a44b-b7f2f70afc92",
   "metadata": {},
   "outputs": [
    {
     "data": {
      "text/plain": [
       "<matplotlib.collections.PathCollection at 0x7f8d96df6760>"
      ]
     },
     "execution_count": 74,
     "metadata": {},
     "output_type": "execute_result"
    },
    {
     "data": {
      "image/png": "[encoded data removed]",
      "text/plain": [
       "<Figure size 432x288 with 1 Axes>"
      ]
     },
     "metadata": {
      "needs_background": "light"
     },
     "output_type": "display_data"
    }
   ],
   "source": [
    "X=X.ravel()\n",
    "y1=2*X**2-5*X+6+np.random.randn(100)*80\n",
    "plt.scatter(X,y1)"
   ]
  },
  {
   "cell_type": "code",
   "execution_count": 41,
   "id": "cffdb0a4-253b-49d1-84f7-a0975ed472a8",
   "metadata": {},
   "outputs": [
    {
     "data": {
      "text/plain": [
       "(100, 1)"
      ]
     },
     "execution_count": 41,
     "metadata": {},
     "output_type": "execute_result"
    }
   ],
   "source": [
    "X.shape"
   ]
  },
  {
   "cell_type": "code",
   "execution_count": 47,
   "id": "27bba015-9ba8-44fc-94f2-1c32317fd27c",
   "metadata": {},
   "outputs": [
    {
     "data": {
      "text/plain": [
       "LinearRegression()"
      ]
     },
     "execution_count": 47,
     "metadata": {},
     "output_type": "execute_result"
    }
   ],
   "source": [
    "linear_model2=LinearRegression()\n",
    "X=X.reshape(-1,1)\n",
    "linear_model2.fit(X,y1)"
   ]
  },
  {
   "cell_type": "code",
   "execution_count": 48,
   "id": "07785038-bb02-4361-a41c-ad6610b2132c",
   "metadata": {},
   "outputs": [
    {
     "data": {
      "text/plain": [
       "array([-4.53193394])"
      ]
     },
     "execution_count": 48,
     "metadata": {},
     "output_type": "execute_result"
    }
   ],
   "source": [
    "linear_model2.coef_"
   ]
  },
  {
   "cell_type": "code",
   "execution_count": 49,
   "id": "188c273e-3db2-4e9f-ad8d-96dfa0bf6721",
   "metadata": {},
   "outputs": [
    {
     "data": {
      "text/plain": [
       "278.81927816498376"
      ]
     },
     "execution_count": 49,
     "metadata": {},
     "output_type": "execute_result"
    }
   ],
   "source": [
    "linear_model2.intercept_"
   ]
  },
  {
   "cell_type": "code",
   "execution_count": 50,
   "id": "9ea1ee06-6d7d-4717-8007-de9cdc427729",
   "metadata": {},
   "outputs": [
    {
     "data": {
      "text/plain": [
       "0.039741673078305895"
      ]
     },
     "execution_count": 50,
     "metadata": {},
     "output_type": "execute_result"
    }
   ],
   "source": [
    "linear_model2.score(X,y1)"
   ]
  },
  {
   "cell_type": "code",
   "execution_count": 51,
   "id": "5f287094-7c2c-465a-9dc4-572271435905",
   "metadata": {},
   "outputs": [
    {
     "data": {
      "text/plain": [
       "[<matplotlib.lines.Line2D at 0x7f8d968ce460>]"
      ]
     },
     "execution_count": 51,
     "metadata": {},
     "output_type": "execute_result"
    },
    {
     "data": {
      "image/png": "[encoded data removed]",
      "text/plain": [
       "<Figure size 432x288 with 1 Axes>"
      ]
     },
     "metadata": {
      "needs_background": "light"
     },
     "output_type": "display_data"
    }
   ],
   "source": [
    "y_pred2=linear_model2.predict(X)\n",
    "plt.scatter(X,y1,alpha=0.4)\n",
    "plt.plot(X,y_pred2,c=\"r\")"
   ]
  },
  {
   "cell_type": "code",
   "execution_count": 75,
   "id": "6c06d787-088a-43a8-9016-dc81eea29497",
   "metadata": {},
   "outputs": [],
   "source": [
    "x_sq=X**2"
   ]
  },
  {
   "cell_type": "code",
   "execution_count": 81,
   "id": "6cf72b06-f9df-40ee-9b4e-6cf368ef2ddd",
   "metadata": {},
   "outputs": [],
   "source": [
    "X=X.reshape(-1,1)\n",
    "x_sq=X**2"
   ]
  },
  {
   "cell_type": "code",
   "execution_count": 82,
   "id": "f9990235-abd0-4339-9102-873821c4f072",
   "metadata": {},
   "outputs": [
    {
     "data": {
      "text/plain": [
       "array([[400.        ],\n",
       "       [384.00163249],\n",
       "       [368.32976227]])"
      ]
     },
     "execution_count": 82,
     "metadata": {},
     "output_type": "execute_result"
    }
   ],
   "source": [
    "x_sq[:3]"
   ]
  },
  {
   "cell_type": "code",
   "execution_count": 57,
   "id": "4c408bf2-d155-483a-baa7-944c50116c5d",
   "metadata": {},
   "outputs": [
    {
     "data": {
      "text/plain": [
       "array([[-2.00000000e+01],\n",
       "       [-1.95959596e+01],\n",
       "       [-1.91919192e+01],\n",
       "       [-1.87878788e+01],\n",
       "       [-1.83838384e+01],\n",
       "       [-1.79797980e+01],\n",
       "       [-1.75757576e+01],\n",
       "       [-1.71717172e+01],\n",
       "       [-1.67676768e+01],\n",
       "       [-1.63636364e+01],\n",
       "       [-1.59595960e+01],\n",
       "       [-1.55555556e+01],\n",
       "       [-1.51515152e+01],\n",
       "       [-1.47474747e+01],\n",
       "       [-1.43434343e+01],\n",
       "       [-1.39393939e+01],\n",
       "       [-1.35353535e+01],\n",
       "       [-1.31313131e+01],\n",
       "       [-1.27272727e+01],\n",
       "       [-1.23232323e+01],\n",
       "       [-1.19191919e+01],\n",
       "       [-1.15151515e+01],\n",
       "       [-1.11111111e+01],\n",
       "       [-1.07070707e+01],\n",
       "       [-1.03030303e+01],\n",
       "       [-9.89898990e+00],\n",
       "       [-9.49494949e+00],\n",
       "       [-9.09090909e+00],\n",
       "       [-8.68686869e+00],\n",
       "       [-8.28282828e+00],\n",
       "       [-7.87878788e+00],\n",
       "       [-7.47474747e+00],\n",
       "       [-7.07070707e+00],\n",
       "       [-6.66666667e+00],\n",
       "       [-6.26262626e+00],\n",
       "       [-5.85858586e+00],\n",
       "       [-5.45454545e+00],\n",
       "       [-5.05050505e+00],\n",
       "       [-4.64646465e+00],\n",
       "       [-4.24242424e+00],\n",
       "       [-3.83838384e+00],\n",
       "       [-3.43434343e+00],\n",
       "       [-3.03030303e+00],\n",
       "       [-2.62626263e+00],\n",
       "       [-2.22222222e+00],\n",
       "       [-1.81818182e+00],\n",
       "       [-1.41414141e+00],\n",
       "       [-1.01010101e+00],\n",
       "       [-6.06060606e-01],\n",
       "       [-2.02020202e-01],\n",
       "       [ 2.02020202e-01],\n",
       "       [ 6.06060606e-01],\n",
       "       [ 1.01010101e+00],\n",
       "       [ 1.41414141e+00],\n",
       "       [ 1.81818182e+00],\n",
       "       [ 2.22222222e+00],\n",
       "       [ 2.62626263e+00],\n",
       "       [ 3.03030303e+00],\n",
       "       [ 3.43434343e+00],\n",
       "       [ 3.83838384e+00],\n",
       "       [ 4.24242424e+00],\n",
       "       [ 4.64646465e+00],\n",
       "       [ 5.05050505e+00],\n",
       "       [ 5.45454545e+00],\n",
       "       [ 5.85858586e+00],\n",
       "       [ 6.26262626e+00],\n",
       "       [ 6.66666667e+00],\n",
       "       [ 7.07070707e+00],\n",
       "       [ 7.47474747e+00],\n",
       "       [ 7.87878788e+00],\n",
       "       [ 8.28282828e+00],\n",
       "       [ 8.68686869e+00],\n",
       "       [ 9.09090909e+00],\n",
       "       [ 9.49494949e+00],\n",
       "       [ 9.89898990e+00],\n",
       "       [ 1.03030303e+01],\n",
       "       [ 1.07070707e+01],\n",
       "       [ 1.11111111e+01],\n",
       "       [ 1.15151515e+01],\n",
       "       [ 1.19191919e+01],\n",
       "       [ 1.23232323e+01],\n",
       "       [ 1.27272727e+01],\n",
       "       [ 1.31313131e+01],\n",
       "       [ 1.35353535e+01],\n",
       "       [ 1.39393939e+01],\n",
       "       [ 1.43434343e+01],\n",
       "       [ 1.47474747e+01],\n",
       "       [ 1.51515152e+01],\n",
       "       [ 1.55555556e+01],\n",
       "       [ 1.59595960e+01],\n",
       "       [ 1.63636364e+01],\n",
       "       [ 1.67676768e+01],\n",
       "       [ 1.71717172e+01],\n",
       "       [ 1.75757576e+01],\n",
       "       [ 1.79797980e+01],\n",
       "       [ 1.83838384e+01],\n",
       "       [ 1.87878788e+01],\n",
       "       [ 1.91919192e+01],\n",
       "       [ 1.95959596e+01],\n",
       "       [ 2.00000000e+01],\n",
       "       [ 4.00000000e+02],\n",
       "       [ 3.84001632e+02],\n",
       "       [ 3.68329762e+02],\n",
       "       [ 3.52984389e+02],\n",
       "       [ 3.37965514e+02],\n",
       "       [ 3.23273135e+02],\n",
       "       [ 3.08907254e+02],\n",
       "       [ 2.94867871e+02],\n",
       "       [ 2.81154984e+02],\n",
       "       [ 2.67768595e+02],\n",
       "       [ 2.54708703e+02],\n",
       "       [ 2.41975309e+02],\n",
       "       [ 2.29568411e+02],\n",
       "       [ 2.17488011e+02],\n",
       "       [ 2.05734109e+02],\n",
       "       [ 1.94306703e+02],\n",
       "       [ 1.83205795e+02],\n",
       "       [ 1.72431385e+02],\n",
       "       [ 1.61983471e+02],\n",
       "       [ 1.51862055e+02],\n",
       "       [ 1.42067136e+02],\n",
       "       [ 1.32598714e+02],\n",
       "       [ 1.23456790e+02],\n",
       "       [ 1.14641363e+02],\n",
       "       [ 1.06152433e+02],\n",
       "       [ 9.79900010e+01],\n",
       "       [ 9.01540659e+01],\n",
       "       [ 8.26446281e+01],\n",
       "       [ 7.54616876e+01],\n",
       "       [ 6.86052444e+01],\n",
       "       [ 6.20752984e+01],\n",
       "       [ 5.58718498e+01],\n",
       "       [ 4.99948985e+01],\n",
       "       [ 4.44444444e+01],\n",
       "       [ 3.92204877e+01],\n",
       "       [ 3.43230283e+01],\n",
       "       [ 2.97520661e+01],\n",
       "       [ 2.55076013e+01],\n",
       "       [ 2.15896337e+01],\n",
       "       [ 1.79981635e+01],\n",
       "       [ 1.47331905e+01],\n",
       "       [ 1.17947148e+01],\n",
       "       [ 9.18273646e+00],\n",
       "       [ 6.89725538e+00],\n",
       "       [ 4.93827160e+00],\n",
       "       [ 3.30578512e+00],\n",
       "       [ 1.99979594e+00],\n",
       "       [ 1.02030405e+00],\n",
       "       [ 3.67309458e-01],\n",
       "       [ 4.08121620e-02],\n",
       "       [ 4.08121620e-02],\n",
       "       [ 3.67309458e-01],\n",
       "       [ 1.02030405e+00],\n",
       "       [ 1.99979594e+00],\n",
       "       [ 3.30578512e+00],\n",
       "       [ 4.93827160e+00],\n",
       "       [ 6.89725538e+00],\n",
       "       [ 9.18273646e+00],\n",
       "       [ 1.17947148e+01],\n",
       "       [ 1.47331905e+01],\n",
       "       [ 1.79981635e+01],\n",
       "       [ 2.15896337e+01],\n",
       "       [ 2.55076013e+01],\n",
       "       [ 2.97520661e+01],\n",
       "       [ 3.43230283e+01],\n",
       "       [ 3.92204877e+01],\n",
       "       [ 4.44444444e+01],\n",
       "       [ 4.99948985e+01],\n",
       "       [ 5.58718498e+01],\n",
       "       [ 6.20752984e+01],\n",
       "       [ 6.86052444e+01],\n",
       "       [ 7.54616876e+01],\n",
       "       [ 8.26446281e+01],\n",
       "       [ 9.01540659e+01],\n",
       "       [ 9.79900010e+01],\n",
       "       [ 1.06152433e+02],\n",
       "       [ 1.14641363e+02],\n",
       "       [ 1.23456790e+02],\n",
       "       [ 1.32598714e+02],\n",
       "       [ 1.42067136e+02],\n",
       "       [ 1.51862055e+02],\n",
       "       [ 1.61983471e+02],\n",
       "       [ 1.72431385e+02],\n",
       "       [ 1.83205795e+02],\n",
       "       [ 1.94306703e+02],\n",
       "       [ 2.05734109e+02],\n",
       "       [ 2.17488011e+02],\n",
       "       [ 2.29568411e+02],\n",
       "       [ 2.41975309e+02],\n",
       "       [ 2.54708703e+02],\n",
       "       [ 2.67768595e+02],\n",
       "       [ 2.81154984e+02],\n",
       "       [ 2.94867871e+02],\n",
       "       [ 3.08907254e+02],\n",
       "       [ 3.23273135e+02],\n",
       "       [ 3.37965514e+02],\n",
       "       [ 3.52984389e+02],\n",
       "       [ 3.68329762e+02],\n",
       "       [ 3.84001632e+02],\n",
       "       [ 4.00000000e+02]])"
      ]
     },
     "execution_count": 57,
     "metadata": {},
     "output_type": "execute_result"
    }
   ],
   "source": [
    "np.concatenate((X,x_sq))"
   ]
  },
  {
   "cell_type": "code",
   "execution_count": 84,
   "id": "6b364405-e33e-436c-a8f5-0e82785d7f8f",
   "metadata": {},
   "outputs": [],
   "source": [
    "X=np.concatenate((X,x_sq),axis=1)"
   ]
  },
  {
   "cell_type": "code",
   "execution_count": 85,
   "id": "4e0dc253-0431-4a19-8ebb-62a19f978161",
   "metadata": {},
   "outputs": [
    {
     "data": {
      "text/plain": [
       "LinearRegression()"
      ]
     },
     "execution_count": 85,
     "metadata": {},
     "output_type": "execute_result"
    }
   ],
   "source": [
    "linear_model3=LinearRegression()\n",
    "linear_model3.fit(X,y1)"
   ]
  },
  {
   "cell_type": "code",
   "execution_count": 86,
   "id": "e7a9d6a2-838d-4f94-95cb-682a70f71d2f",
   "metadata": {},
   "outputs": [
    {
     "data": {
      "text/plain": [
       "array([-5.17279582,  1.94139568])"
      ]
     },
     "execution_count": 86,
     "metadata": {},
     "output_type": "execute_result"
    }
   ],
   "source": [
    "linear_model3.coef_"
   ]
  },
  {
   "cell_type": "code",
   "execution_count": 87,
   "id": "414c1aa7-d78a-4de9-9c8e-806f2018b94b",
   "metadata": {},
   "outputs": [
    {
     "data": {
      "text/plain": [
       "3.425649028993746"
      ]
     },
     "execution_count": 87,
     "metadata": {},
     "output_type": "execute_result"
    }
   ],
   "source": [
    "linear_model3.intercept_"
   ]
  },
  {
   "cell_type": "code",
   "execution_count": 88,
   "id": "77dad624-582a-4345-bc34-478d36cac9d1",
   "metadata": {},
   "outputs": [
    {
     "data": {
      "text/plain": [
       "0.8893469018756709"
      ]
     },
     "execution_count": 88,
     "metadata": {},
     "output_type": "execute_result"
    }
   ],
   "source": [
    "linear_model3.score(X,y1)"
   ]
  },
  {
   "cell_type": "code",
   "execution_count": 90,
   "id": "3f16e66d-27f8-4a59-a8da-b2a3a7d030ca",
   "metadata": {},
   "outputs": [
    {
     "data": {
      "text/plain": [
       "[<matplotlib.lines.Line2D at 0x7f8d96e36760>]"
      ]
     },
     "execution_count": 90,
     "metadata": {},
     "output_type": "execute_result"
    },
    {
     "data": {
      "image/png": "[encoded data removed]",
      "text/plain": [
       "<Figure size 432x288 with 1 Axes>"
      ]
     },
     "metadata": {
      "needs_background": "light"
     },
     "output_type": "display_data"
    }
   ],
   "source": [
    "y_pred3=linear_model3.predict(X)\n",
    "plt.scatter(X[:,0],y1,alpha=0.4)\n",
    "plt.plot(X[:,0],y_pred3,c=\"r\")"
   ]
  },
  {
   "cell_type": "code",
   "execution_count": null,
   "id": "44f73d46-dcc3-4431-abd3-07fe9db0a12e",
   "metadata": {},
   "outputs": [],
   "source": []
  }
 ],
 "metadata": {
  "kernelspec": {
   "display_name": "Python 3 (ipykernel)",
   "language": "python",
   "name": "python3"
  },
  "language_info": {
   "codemirror_mode": {
    "name": "ipython",
    "version": 3
   },
   "file_extension": ".py",
   "mimetype": "text/x-python",
   "name": "python",
   "nbconvert_exporter": "python",
   "pygments_lexer": "ipython3",
   "version": "3.9.7"
  }
 },
 "nbformat": 4,
 "nbformat_minor": 5
}
