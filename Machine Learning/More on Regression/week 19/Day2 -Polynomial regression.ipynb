{
 "cells": [
  {
   "cell_type": "code",
   "execution_count": 3,
   "id": "5e5e775c-f4b4-498b-b2d1-18f39dadf82f",
   "metadata": {},
   "outputs": [],
   "source": [
    "import numpy as np\n",
    "import matplotlib.pyplot as plt\n",
    "X=np.linspace(-20,20,100)"
   ]
  },
  {
   "cell_type": "code",
   "execution_count": 4,
   "id": "75bd515f-dd98-48a3-88c6-9aec53ead711",
   "metadata": {},
   "outputs": [
    {
     "data": {
      "text/plain": [
       "<matplotlib.collections.PathCollection at 0x7f97a08f7970>"
      ]
     },
     "execution_count": 4,
     "metadata": {},
     "output_type": "execute_result"
    },
    {
     "data": {
      "image/png": "[encoded data removed]",
      "text/plain": [
       "<Figure size 432x288 with 1 Axes>"
      ]
     },
     "metadata": {
      "needs_background": "light"
     },
     "output_type": "display_data"
    }
   ],
   "source": [
    "X=X.ravel()\n",
    "y1=2*X**2-5*X+6+np.random.randn(100)*80\n",
    "plt.scatter(X,y1)"
   ]
  },
  {
   "cell_type": "code",
   "execution_count": 10,
   "id": "a26ae778-7016-4221-9ed9-5f9962d47cd3",
   "metadata": {},
   "outputs": [
    {
     "data": {
      "text/plain": [
       "array([[-20.        ],\n",
       "       [-19.5959596 ],\n",
       "       [-19.19191919],\n",
       "       [-18.78787879],\n",
       "       [-18.38383838],\n",
       "       [-17.97979798],\n",
       "       [-17.57575758],\n",
       "       [-17.17171717],\n",
       "       [-16.76767677],\n",
       "       [-16.36363636]])"
      ]
     },
     "execution_count": 10,
     "metadata": {},
     "output_type": "execute_result"
    }
   ],
   "source": [
    "from sklearn.preprocessing import PolynomialFeatures\n",
    "X[:10]"
   ]
  },
  {
   "cell_type": "code",
   "execution_count": 25,
   "id": "8b5f124f-3956-496c-a5e2-6549697b69ce",
   "metadata": {},
   "outputs": [],
   "source": [
    "poly1=PolynomialFeatures(include_bias=False)"
   ]
  },
  {
   "cell_type": "code",
   "execution_count": 26,
   "id": "191fa5ac-249b-4ba6-a567-37c7338f89d3",
   "metadata": {},
   "outputs": [],
   "source": [
    "X=X.reshape(-1,1)"
   ]
  },
  {
   "cell_type": "code",
   "execution_count": 27,
   "id": "21d3beb7-0a23-4a2e-8dbb-b545f064e199",
   "metadata": {},
   "outputs": [
    {
     "data": {
      "text/plain": [
       "PolynomialFeatures(include_bias=False)"
      ]
     },
     "execution_count": 27,
     "metadata": {},
     "output_type": "execute_result"
    }
   ],
   "source": [
    "poly1.fit(X)"
   ]
  },
  {
   "cell_type": "code",
   "execution_count": 28,
   "id": "7cd1f26e-2825-4c69-ba94-2d7c1ca920af",
   "metadata": {},
   "outputs": [],
   "source": [
    "poly_X=poly1.transform(X)"
   ]
  },
  {
   "cell_type": "code",
   "execution_count": 30,
   "id": "4daa6d52-6577-4081-be10-fcbe86b504c6",
   "metadata": {},
   "outputs": [
    {
     "data": {
      "text/plain": [
       "array([[-20.        , 400.        ],\n",
       "       [-19.5959596 , 384.00163249],\n",
       "       [-19.19191919, 368.32976227],\n",
       "       [-18.78787879, 352.98438935],\n",
       "       [-18.38383838, 337.96551372],\n",
       "       [-17.97979798, 323.27313539],\n",
       "       [-17.57575758, 308.90725436],\n",
       "       [-17.17171717, 294.86787063],\n",
       "       [-16.76767677, 281.15498419],\n",
       "       [-16.36363636, 267.76859504]])"
      ]
     },
     "execution_count": 30,
     "metadata": {},
     "output_type": "execute_result"
    }
   ],
   "source": [
    "poly_X[:10]"
   ]
  },
  {
   "cell_type": "code",
   "execution_count": 31,
   "id": "3358aa5a-7f86-485f-939d-5e71629e57bd",
   "metadata": {},
   "outputs": [],
   "source": [
    "from sklearn.linear_model import LinearRegression"
   ]
  },
  {
   "cell_type": "code",
   "execution_count": 33,
   "id": "8806b062-ac7a-49e4-96a5-bc0d2f0e4769",
   "metadata": {},
   "outputs": [
    {
     "data": {
      "text/plain": [
       "LinearRegression()"
      ]
     },
     "execution_count": 33,
     "metadata": {},
     "output_type": "execute_result"
    }
   ],
   "source": [
    "model1=LinearRegression()\n",
    "model1.fit(poly_X,y1)"
   ]
  },
  {
   "cell_type": "code",
   "execution_count": 34,
   "id": "86699e99-17a7-4388-821d-2f9aef83de5d",
   "metadata": {},
   "outputs": [],
   "source": [
    "y_pred1=model1.predict(poly_X)"
   ]
  },
  {
   "cell_type": "code",
   "execution_count": 37,
   "id": "487519ea-6c6f-4457-8933-fe271c751183",
   "metadata": {},
   "outputs": [
    {
     "data": {
      "text/plain": [
       "[<matplotlib.lines.Line2D at 0x7f97a4526310>]"
      ]
     },
     "execution_count": 37,
     "metadata": {},
     "output_type": "execute_result"
    },
    {
     "data": {
      "image/png": "[encoded data removed]",
      "text/plain": [
       "<Figure size 432x288 with 1 Axes>"
      ]
     },
     "metadata": {
      "needs_background": "light"
     },
     "output_type": "display_data"
    }
   ],
   "source": [
    "plt.scatter(X.ravel(),y1)\n",
    "plt.plot(X.ravel(),y_pred1,c=\"r\")"
   ]
  },
  {
   "cell_type": "code",
   "execution_count": 38,
   "id": "17d12146-f0cf-4d03-868a-21475f821280",
   "metadata": {},
   "outputs": [
    {
     "data": {
      "text/plain": [
       "0.9185114406103709"
      ]
     },
     "execution_count": 38,
     "metadata": {},
     "output_type": "execute_result"
    }
   ],
   "source": [
    "model1.score(poly_X,y1)"
   ]
  },
  {
   "cell_type": "code",
   "execution_count": 42,
   "id": "a35eea97-ca33-4107-a755-4e44e0e6fc17",
   "metadata": {},
   "outputs": [],
   "source": [
    "def buildPolyRegression(X,y,degree=2):\n",
    "    if(X.ndim==1):\n",
    "        X=X.reshape(-1,1)\n",
    "    poly=PolynomialFeatures(include_bias=False,degree=degree)\n",
    "    poly_X=poly.fit_transform(X)\n",
    "    model=LinearRegression()\n",
    "    model.fit(poly_X,y)\n",
    "    predict = model.predict(poly_X)\n",
    "    score=model.score(poly_X,y)\n",
    "    return {\n",
    "        \"prediction\":predict,\n",
    "        \"score\":score,\n",
    "        \"model\":model,\n",
    "        \"X\":poly_X\n",
    "    }\n",
    "    \n",
    "    "
   ]
  },
  {
   "cell_type": "code",
   "execution_count": 95,
   "id": "46930e2d-be5e-4b22-8f1b-90bca9153381",
   "metadata": {},
   "outputs": [],
   "source": [
    "result=buildPolyRegression(X,y1,3)"
   ]
  },
  {
   "cell_type": "code",
   "execution_count": 96,
   "id": "50784a80-2456-426d-aacf-01c7f6efbef5",
   "metadata": {},
   "outputs": [],
   "source": [
    "y_pred2=result[\"prediction\"]"
   ]
  },
  {
   "cell_type": "code",
   "execution_count": 99,
   "id": "60fd1834-0ef5-4e78-95df-6c5f66c982c7",
   "metadata": {},
   "outputs": [
    {
     "data": {
      "text/plain": [
       "[<matplotlib.lines.Line2D at 0x7f97a5629e20>]"
      ]
     },
     "execution_count": 99,
     "metadata": {},
     "output_type": "execute_result"
    },
    {
     "data": {
      "image/png": "[encoded data removed]",
      "text/plain": [
       "<Figure size 432x288 with 1 Axes>"
      ]
     },
     "metadata": {
      "needs_background": "light"
     },
     "output_type": "display_data"
    }
   ],
   "source": [
    "plt.scatter(X.ravel(),y1,alpha=0.6)\n",
    "plt.plot(X.ravel(),y_pred2,c=\"r\")"
   ]
  },
  {
   "cell_type": "code",
   "execution_count": 98,
   "id": "49592474-38e2-4263-9ebd-f2015c5f82a3",
   "metadata": {},
   "outputs": [
    {
     "data": {
      "text/plain": [
       "0.9190008896409807"
      ]
     },
     "execution_count": 98,
     "metadata": {},
     "output_type": "execute_result"
    }
   ],
   "source": [
    "result[\"score\"]"
   ]
  },
  {
   "cell_type": "code",
   "execution_count": null,
   "id": "0653776d-729b-45a2-b8c1-f6189006583f",
   "metadata": {},
   "outputs": [],
   "source": []
  }
 ],
 "metadata": {
  "kernelspec": {
   "display_name": "Python 3 (ipykernel)",
   "language": "python",
   "name": "python3"
  },
  "language_info": {
   "codemirror_mode": {
    "name": "ipython",
    "version": 3
   },
   "file_extension": ".py",
   "mimetype": "text/x-python",
   "name": "python",
   "nbconvert_exporter": "python",
   "pygments_lexer": "ipython3",
   "version": "3.9.7"
  }
 },
 "nbformat": 4,
 "nbformat_minor": 5
}
