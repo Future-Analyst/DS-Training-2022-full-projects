{
 "cells": [
  {
   "cell_type": "code",
   "execution_count": 5,
   "id": "6460f5f1-0d7d-4b38-ada4-aed413936f62",
   "metadata": {},
   "outputs": [],
   "source": [
    "import numpy as np\n",
    "import pandas as pd\n",
    "from sklearn.model_selection import train_test_split\n",
    "from sklearn.ensemble import BaggingClassifier,AdaBoostClassifier,GradientBoostingClassifier\n",
    "from sklearn.neighbors import KNeighborsClassifier\n",
    "from sklearn.tree import DecisionTreeClassifier\n",
    "from sklearn.linear_model import LogisticRegression\n",
    "from sklearn.datasets import load_breast_cancer"
   ]
  },
  {
   "cell_type": "code",
   "execution_count": 6,
   "id": "a1c38fb7-bfc3-4a04-91fc-eda30cc12ab9",
   "metadata": {},
   "outputs": [],
   "source": [
    "X,y=load_breast_cancer(return_X_y=True)\n",
    "X_train,X_test,y_train,y_test=train_test_split(X,y)"
   ]
  },
  {
   "cell_type": "code",
   "execution_count": 10,
   "id": "eaea3844-e433-417f-a02d-4e644f253a4a",
   "metadata": {},
   "outputs": [],
   "source": [
    "ada_model1=AdaBoostClassifier(base_estimator=LogisticRegression(solver=\"liblinear\"))"
   ]
  },
  {
   "cell_type": "code",
   "execution_count": 11,
   "id": "bafefe51-66c2-45bc-831f-564c7a798752",
   "metadata": {},
   "outputs": [
    {
     "data": {
      "text/plain": [
       "0.9553990610328639"
      ]
     },
     "execution_count": 11,
     "metadata": {},
     "output_type": "execute_result"
    }
   ],
   "source": [
    "ada_model1.fit(X_train,y_train)\n",
    "ada_model1.score(X_train,y_train)"
   ]
  },
  {
   "cell_type": "code",
   "execution_count": 12,
   "id": "d7bdc001-b5cb-45ca-ad00-384733c57a38",
   "metadata": {},
   "outputs": [
    {
     "data": {
      "text/plain": [
       "0.9440559440559441"
      ]
     },
     "execution_count": 12,
     "metadata": {},
     "output_type": "execute_result"
    }
   ],
   "source": [
    "ada_model1.score(X_test,y_test)"
   ]
  },
  {
   "cell_type": "code",
   "execution_count": null,
   "id": "bf538bba-7e7f-49e2-9a5f-9bc9b27c5315",
   "metadata": {},
   "outputs": [],
   "source": []
  }
 ],
 "metadata": {
  "kernelspec": {
   "display_name": "Python 3 (ipykernel)",
   "language": "python",
   "name": "python3"
  },
  "language_info": {
   "codemirror_mode": {
    "name": "ipython",
    "version": 3
   },
   "file_extension": ".py",
   "mimetype": "text/x-python",
   "name": "python",
   "nbconvert_exporter": "python",
   "pygments_lexer": "ipython3",
   "version": "3.9.12"
  }
 },
 "nbformat": 4,
 "nbformat_minor": 5
}
